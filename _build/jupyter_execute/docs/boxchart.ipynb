{
 "cells": [
  {
   "cell_type": "code",
   "execution_count": 1,
   "id": "20d0b82d",
   "metadata": {},
   "outputs": [],
   "source": [
    "%run theme.ipynb"
   ]
  },
  {
   "cell_type": "code",
   "execution_count": 2,
   "id": "8eb8098c",
   "metadata": {},
   "outputs": [
    {
     "data": {
      "application/vnd.plotly.v1+json": {
       "config": {
        "plotlyServerURL": "https://plot.ly"
       },
       "data": [
        {
         "hovertemplate": "<b>%{x}</b><br><span style=\"color:black\">Pole Position: %{y} wins</span><extra></extra>",
         "marker": {
          "color": "#DC143C",
          "line": {
           "color": "white",
           "width": 1
          }
         },
         "name": "Pole Position",
         "text": [
          "9",
          "",
          "8",
          "",
          "1",
          "1",
          "1",
          "13",
          "",
          "9",
          "3",
          "8",
          "11",
          "6",
          "2",
          "2",
          "9",
          "11",
          "7",
          "8"
         ],
         "textfont": {
          "color": "white",
          "family": "Inter, Arial",
          "size": 9
         },
         "textposition": "inside",
         "type": "bar",
         "x": [
          "China",
          "Miami",
          "Bahrain",
          "Sakhir",
          "South Korea",
          "Qatar",
          "Azerbaijan",
          "Brazil",
          "Eifel",
          "Abu Dhabi",
          "India",
          "USA",
          "Belgium",
          "Turkey",
          "Russia",
          "Styria",
          "Malaysia",
          "Germany",
          "Austria",
          "Singapore"
         ],
         "y": {
          "bdata": "CQAIAAEBAQ0ACQMICwYCAgkLBwg=",
          "dtype": "i1"
         }
        },
        {
         "hovertemplate": "<b>%{x}</b><br><span style=\"color:black\">P2 Start: %{y} wins</span><extra></extra>",
         "marker": {
          "color": "#FF6B6B",
          "line": {
           "color": "white",
           "width": 1
          }
         },
         "name": "P2 Start",
         "text": [
          "2",
          "",
          "5",
          "",
          "2",
          "",
          "1",
          "10",
          "1",
          "4",
          "",
          "7",
          "6",
          "2",
          "3",
          "",
          "4",
          "8",
          "3",
          "1"
         ],
         "textfont": {
          "color": "white",
          "family": "Inter, Arial",
          "size": 9
         },
         "textposition": "inside",
         "type": "bar",
         "x": [
          "China",
          "Miami",
          "Bahrain",
          "Sakhir",
          "South Korea",
          "Qatar",
          "Azerbaijan",
          "Brazil",
          "Eifel",
          "Abu Dhabi",
          "India",
          "USA",
          "Belgium",
          "Turkey",
          "Russia",
          "Styria",
          "Malaysia",
          "Germany",
          "Austria",
          "Singapore"
         ],
         "y": {
          "bdata": "AgAFAAIAAQoBBAAHBgIDAAQIAwE=",
          "dtype": "i1"
         }
        },
        {
         "hovertemplate": "<b>%{x}</b><br><span style=\"color:black\">P3 Start: %{y} wins</span><extra></extra>",
         "marker": {
          "color": "#FFB3B3",
          "line": {
           "color": "white",
           "width": 1
          }
         },
         "name": "P3 Start",
         "text": [
          "2",
          "1",
          "3",
          "",
          "1",
          "",
          "1",
          "2",
          "",
          "",
          "",
          "",
          "5",
          "",
          "2",
          "",
          "2",
          "1",
          "4",
          "2"
         ],
         "textfont": {
          "color": "white",
          "family": "Inter, Arial",
          "size": 9
         },
         "textposition": "inside",
         "type": "bar",
         "x": [
          "China",
          "Miami",
          "Bahrain",
          "Sakhir",
          "South Korea",
          "Qatar",
          "Azerbaijan",
          "Brazil",
          "Eifel",
          "Abu Dhabi",
          "India",
          "USA",
          "Belgium",
          "Turkey",
          "Russia",
          "Styria",
          "Malaysia",
          "Germany",
          "Austria",
          "Singapore"
         ],
         "y": {
          "bdata": "AgEDAAEAAQIAAAAABQACAAIBBAI=",
          "dtype": "i1"
         }
        },
        {
         "hovertemplate": "<b>%{x}</b><br><span style=\"color:black\">Outside Top 3: %{y} wins</span><extra></extra>",
         "marker": {
          "color": "#E8E8E8",
          "line": {
           "color": "white",
           "width": 1
          }
         },
         "name": "Outside Top 3",
         "text": [
          "3",
          "",
          "2",
          "1",
          "",
          "",
          "2",
          "3",
          "",
          "1",
          "",
          "3",
          "5",
          "1",
          "1",
          "",
          "4",
          "5",
          "2",
          "2"
         ],
         "textfont": {
          "color": "#666666",
          "family": "Inter, Arial",
          "size": 9
         },
         "textposition": "inside",
         "type": "bar",
         "x": [
          "China",
          "Miami",
          "Bahrain",
          "Sakhir",
          "South Korea",
          "Qatar",
          "Azerbaijan",
          "Brazil",
          "Eifel",
          "Abu Dhabi",
          "India",
          "USA",
          "Belgium",
          "Turkey",
          "Russia",
          "Styria",
          "Malaysia",
          "Germany",
          "Austria",
          "Singapore"
         ],
         "y": {
          "bdata": "AwACAQAAAgMAAQADBQEBAAQFAgI=",
          "dtype": "i1"
         }
        }
       ],
       "layout": {
        "barmode": "stack",
        "font": {
         "color": "#2C2C2C",
         "family": "Inter, Arial, sans-serif"
        },
        "height": 450,
        "hoverlabel": {
         "bgcolor": "white",
         "bordercolor": "#E0E0E0",
         "font": {
          "color": "black",
          "family": "Inter, Arial",
          "size": 10
         }
        },
        "legend": {
         "bgcolor": "rgba(255,255,255,0)",
         "borderwidth": 0,
         "font": {
          "color": "#2C2C2C",
          "family": "Inter, Arial",
          "size": 10
         },
         "orientation": "h",
         "x": 0.5,
         "xanchor": "center",
         "y": -0.35,
         "yanchor": "bottom"
        },
        "margin": {
         "b": 120,
         "l": 50,
         "r": 30,
         "t": 30
        },
        "paper_bgcolor": "white",
        "plot_bgcolor": "white",
        "showlegend": true,
        "template": {
         "data": {
          "bar": [
           {
            "error_x": {
             "color": "#2a3f5f"
            },
            "error_y": {
             "color": "#2a3f5f"
            },
            "marker": {
             "line": {
              "color": "#E5ECF6",
              "width": 0
             },
             "pattern": {
              "fillmode": "overlay",
              "size": 10,
              "solidity": 0.2
             }
            },
            "type": "bar"
           }
          ],
          "barpolar": [
           {
            "marker": {
             "line": {
              "color": "#E5ECF6",
              "width": 0.5
             },
             "pattern": {
              "fillmode": "overlay",
              "size": 10,
              "solidity": 0.2
             }
            },
            "type": "barpolar"
           }
          ],
          "carpet": [
           {
            "aaxis": {
             "endlinecolor": "#2a3f5f",
             "gridcolor": "white",
             "linecolor": "white",
             "minorgridcolor": "white",
             "startlinecolor": "#2a3f5f"
            },
            "baxis": {
             "endlinecolor": "#2a3f5f",
             "gridcolor": "white",
             "linecolor": "white",
             "minorgridcolor": "white",
             "startlinecolor": "#2a3f5f"
            },
            "type": "carpet"
           }
          ],
          "choropleth": [
           {
            "colorbar": {
             "outlinewidth": 0,
             "ticks": ""
            },
            "type": "choropleth"
           }
          ],
          "contour": [
           {
            "colorbar": {
             "outlinewidth": 0,
             "ticks": ""
            },
            "colorscale": [
             [
              0.0,
              "#0d0887"
             ],
             [
              0.1111111111111111,
              "#46039f"
             ],
             [
              0.2222222222222222,
              "#7201a8"
             ],
             [
              0.3333333333333333,
              "#9c179e"
             ],
             [
              0.4444444444444444,
              "#bd3786"
             ],
             [
              0.5555555555555556,
              "#d8576b"
             ],
             [
              0.6666666666666666,
              "#ed7953"
             ],
             [
              0.7777777777777778,
              "#fb9f3a"
             ],
             [
              0.8888888888888888,
              "#fdca26"
             ],
             [
              1.0,
              "#f0f921"
             ]
            ],
            "type": "contour"
           }
          ],
          "contourcarpet": [
           {
            "colorbar": {
             "outlinewidth": 0,
             "ticks": ""
            },
            "type": "contourcarpet"
           }
          ],
          "heatmap": [
           {
            "colorbar": {
             "outlinewidth": 0,
             "ticks": ""
            },
            "colorscale": [
             [
              0.0,
              "#0d0887"
             ],
             [
              0.1111111111111111,
              "#46039f"
             ],
             [
              0.2222222222222222,
              "#7201a8"
             ],
             [
              0.3333333333333333,
              "#9c179e"
             ],
             [
              0.4444444444444444,
              "#bd3786"
             ],
             [
              0.5555555555555556,
              "#d8576b"
             ],
             [
              0.6666666666666666,
              "#ed7953"
             ],
             [
              0.7777777777777778,
              "#fb9f3a"
             ],
             [
              0.8888888888888888,
              "#fdca26"
             ],
             [
              1.0,
              "#f0f921"
             ]
            ],
            "type": "heatmap"
           }
          ],
          "histogram": [
           {
            "marker": {
             "pattern": {
              "fillmode": "overlay",
              "size": 10,
              "solidity": 0.2
             }
            },
            "type": "histogram"
           }
          ],
          "histogram2d": [
           {
            "colorbar": {
             "outlinewidth": 0,
             "ticks": ""
            },
            "colorscale": [
             [
              0.0,
              "#0d0887"
             ],
             [
              0.1111111111111111,
              "#46039f"
             ],
             [
              0.2222222222222222,
              "#7201a8"
             ],
             [
              0.3333333333333333,
              "#9c179e"
             ],
             [
              0.4444444444444444,
              "#bd3786"
             ],
             [
              0.5555555555555556,
              "#d8576b"
             ],
             [
              0.6666666666666666,
              "#ed7953"
             ],
             [
              0.7777777777777778,
              "#fb9f3a"
             ],
             [
              0.8888888888888888,
              "#fdca26"
             ],
             [
              1.0,
              "#f0f921"
             ]
            ],
            "type": "histogram2d"
           }
          ],
          "histogram2dcontour": [
           {
            "colorbar": {
             "outlinewidth": 0,
             "ticks": ""
            },
            "colorscale": [
             [
              0.0,
              "#0d0887"
             ],
             [
              0.1111111111111111,
              "#46039f"
             ],
             [
              0.2222222222222222,
              "#7201a8"
             ],
             [
              0.3333333333333333,
              "#9c179e"
             ],
             [
              0.4444444444444444,
              "#bd3786"
             ],
             [
              0.5555555555555556,
              "#d8576b"
             ],
             [
              0.6666666666666666,
              "#ed7953"
             ],
             [
              0.7777777777777778,
              "#fb9f3a"
             ],
             [
              0.8888888888888888,
              "#fdca26"
             ],
             [
              1.0,
              "#f0f921"
             ]
            ],
            "type": "histogram2dcontour"
           }
          ],
          "mesh3d": [
           {
            "colorbar": {
             "outlinewidth": 0,
             "ticks": ""
            },
            "type": "mesh3d"
           }
          ],
          "parcoords": [
           {
            "line": {
             "colorbar": {
              "outlinewidth": 0,
              "ticks": ""
             }
            },
            "type": "parcoords"
           }
          ],
          "pie": [
           {
            "automargin": true,
            "type": "pie"
           }
          ],
          "scatter": [
           {
            "fillpattern": {
             "fillmode": "overlay",
             "size": 10,
             "solidity": 0.2
            },
            "type": "scatter"
           }
          ],
          "scatter3d": [
           {
            "line": {
             "colorbar": {
              "outlinewidth": 0,
              "ticks": ""
             }
            },
            "marker": {
             "colorbar": {
              "outlinewidth": 0,
              "ticks": ""
             }
            },
            "type": "scatter3d"
           }
          ],
          "scattercarpet": [
           {
            "marker": {
             "colorbar": {
              "outlinewidth": 0,
              "ticks": ""
             }
            },
            "type": "scattercarpet"
           }
          ],
          "scattergeo": [
           {
            "marker": {
             "colorbar": {
              "outlinewidth": 0,
              "ticks": ""
             }
            },
            "type": "scattergeo"
           }
          ],
          "scattergl": [
           {
            "marker": {
             "colorbar": {
              "outlinewidth": 0,
              "ticks": ""
             }
            },
            "type": "scattergl"
           }
          ],
          "scattermap": [
           {
            "marker": {
             "colorbar": {
              "outlinewidth": 0,
              "ticks": ""
             }
            },
            "type": "scattermap"
           }
          ],
          "scattermapbox": [
           {
            "marker": {
             "colorbar": {
              "outlinewidth": 0,
              "ticks": ""
             }
            },
            "type": "scattermapbox"
           }
          ],
          "scatterpolar": [
           {
            "marker": {
             "colorbar": {
              "outlinewidth": 0,
              "ticks": ""
             }
            },
            "type": "scatterpolar"
           }
          ],
          "scatterpolargl": [
           {
            "marker": {
             "colorbar": {
              "outlinewidth": 0,
              "ticks": ""
             }
            },
            "type": "scatterpolargl"
           }
          ],
          "scatterternary": [
           {
            "marker": {
             "colorbar": {
              "outlinewidth": 0,
              "ticks": ""
             }
            },
            "type": "scatterternary"
           }
          ],
          "surface": [
           {
            "colorbar": {
             "outlinewidth": 0,
             "ticks": ""
            },
            "colorscale": [
             [
              0.0,
              "#0d0887"
             ],
             [
              0.1111111111111111,
              "#46039f"
             ],
             [
              0.2222222222222222,
              "#7201a8"
             ],
             [
              0.3333333333333333,
              "#9c179e"
             ],
             [
              0.4444444444444444,
              "#bd3786"
             ],
             [
              0.5555555555555556,
              "#d8576b"
             ],
             [
              0.6666666666666666,
              "#ed7953"
             ],
             [
              0.7777777777777778,
              "#fb9f3a"
             ],
             [
              0.8888888888888888,
              "#fdca26"
             ],
             [
              1.0,
              "#f0f921"
             ]
            ],
            "type": "surface"
           }
          ],
          "table": [
           {
            "cells": {
             "fill": {
              "color": "#EBF0F8"
             },
             "line": {
              "color": "white"
             }
            },
            "header": {
             "fill": {
              "color": "#C8D4E3"
             },
             "line": {
              "color": "white"
             }
            },
            "type": "table"
           }
          ]
         },
         "layout": {
          "annotationdefaults": {
           "arrowcolor": "#343a42",
           "arrowhead": 0,
           "arrowwidth": 1
          },
          "autotypenumbers": "strict",
          "coloraxis": {
           "colorbar": {
            "outlinewidth": 0,
            "ticks": ""
           }
          },
          "colorscale": {
           "diverging": [
            [
             0,
             "#8e0152"
            ],
            [
             0.1,
             "#c51b7d"
            ],
            [
             0.2,
             "#de77ae"
            ],
            [
             0.3,
             "#f1b6da"
            ],
            [
             0.4,
             "#fde0ef"
            ],
            [
             0.5,
             "#f7f7f7"
            ],
            [
             0.6,
             "#e6f5d0"
            ],
            [
             0.7,
             "#b8e186"
            ],
            [
             0.8,
             "#7fbc41"
            ],
            [
             0.9,
             "#4d9221"
            ],
            [
             1,
             "#276419"
            ]
           ],
           "sequential": [
            [
             0.0,
             "#0d0887"
            ],
            [
             0.1111111111111111,
             "#46039f"
            ],
            [
             0.2222222222222222,
             "#7201a8"
            ],
            [
             0.3333333333333333,
             "#9c179e"
            ],
            [
             0.4444444444444444,
             "#bd3786"
            ],
            [
             0.5555555555555556,
             "#d8576b"
            ],
            [
             0.6666666666666666,
             "#ed7953"
            ],
            [
             0.7777777777777778,
             "#fb9f3a"
            ],
            [
             0.8888888888888888,
             "#fdca26"
            ],
            [
             1.0,
             "#f0f921"
            ]
           ],
           "sequentialminus": [
            [
             0.0,
             "#0d0887"
            ],
            [
             0.1111111111111111,
             "#46039f"
            ],
            [
             0.2222222222222222,
             "#7201a8"
            ],
            [
             0.3333333333333333,
             "#9c179e"
            ],
            [
             0.4444444444444444,
             "#bd3786"
            ],
            [
             0.5555555555555556,
             "#d8576b"
            ],
            [
             0.6666666666666666,
             "#ed7953"
            ],
            [
             0.7777777777777778,
             "#fb9f3a"
            ],
            [
             0.8888888888888888,
             "#fdca26"
            ],
            [
             1.0,
             "#f0f921"
            ]
           ]
          },
          "colorway": [
           "#343a42",
           "#4edcda",
           "#4c75eb",
           "#ef4de5",
           "#f74e4e",
           "#2d8923",
           "#f7b24e",
           "#2b9694",
           "#3a34b5",
           "#a736a0",
           "#b33c3c",
           "#2d8923"
          ],
          "font": {
           "color": "#343a42"
          },
          "geo": {
           "bgcolor": "white",
           "lakecolor": "white",
           "landcolor": "#E5ECF6",
           "showlakes": true,
           "showland": true,
           "subunitcolor": "white"
          },
          "hoverlabel": {
           "align": "left"
          },
          "hovermode": "closest",
          "mapbox": {
           "style": "light"
          },
          "paper_bgcolor": "#f5f5f5",
          "plot_bgcolor": "rgba(0,0,0,0)",
          "polar": {
           "angularaxis": {
            "gridcolor": "white",
            "linecolor": "white",
            "ticks": ""
           },
           "bgcolor": "#E5ECF6",
           "radialaxis": {
            "gridcolor": "white",
            "linecolor": "white",
            "ticks": ""
           }
          },
          "scene": {
           "xaxis": {
            "backgroundcolor": "#E5ECF6",
            "gridcolor": "white",
            "gridwidth": 2,
            "linecolor": "white",
            "showbackground": true,
            "ticks": "",
            "zerolinecolor": "white"
           },
           "yaxis": {
            "backgroundcolor": "#E5ECF6",
            "gridcolor": "white",
            "gridwidth": 2,
            "linecolor": "white",
            "showbackground": true,
            "ticks": "",
            "zerolinecolor": "white"
           },
           "zaxis": {
            "backgroundcolor": "#E5ECF6",
            "gridcolor": "white",
            "gridwidth": 2,
            "linecolor": "white",
            "showbackground": true,
            "ticks": "",
            "zerolinecolor": "white"
           }
          },
          "shapedefaults": {
           "line": {
            "color": "#2a3f5f"
           }
          },
          "ternary": {
           "aaxis": {
            "gridcolor": "white",
            "linecolor": "white",
            "ticks": ""
           },
           "baxis": {
            "gridcolor": "white",
            "linecolor": "white",
            "ticks": ""
           },
           "bgcolor": "#E5ECF6",
           "caxis": {
            "gridcolor": "white",
            "linecolor": "white",
            "ticks": ""
           }
          },
          "title": {
           "x": 0.5
          },
          "xaxis": {
           "automargin": true,
           "gridcolor": "#cccccc",
           "linecolor": "white",
           "ticks": "",
           "title": {
            "standoff": 15
           },
           "zerolinecolor": "#cccccc",
           "zerolinewidth": 1
          },
          "yaxis": {
           "automargin": true,
           "gridcolor": "#cccccc",
           "linecolor": "white",
           "ticks": "",
           "title": {
            "standoff": 15
           },
           "zerolinecolor": "#cccccc",
           "zerolinewidth": 1
          }
         }
        },
        "title": {},
        "width": 900,
        "xaxis": {
         "linecolor": "#E0E0E0",
         "linewidth": 1,
         "mirror": false,
         "showgrid": false,
         "showline": true,
         "showticklabels": true,
         "tickangle": -45,
         "tickfont": {
          "color": "#2C2C2C",
          "size": 9
         },
         "ticks": "",
         "title": {
          "font": {
           "color": "#2C2C2C",
           "family": "Inter, Arial",
           "size": 12
          },
          "text": "Circuit"
         }
        },
        "yaxis": {
         "gridcolor": "#F5F5F5",
         "gridwidth": 1,
         "linecolor": "#E0E0E0",
         "linewidth": 1,
         "showgrid": true,
         "showline": true,
         "showticklabels": true,
         "tickfont": {
          "color": "#2C2C2C",
          "size": 9
         },
         "ticks": "",
         "title": {
          "font": {
           "color": "#2C2C2C",
           "family": "Inter, Arial",
           "size": 12
          },
          "text": "Race Wins"
         },
         "zeroline": false
        }
       }
      }
     },
     "metadata": {},
     "output_type": "display_data"
    }
   ],
   "source": [
    "import pandas as pd\n",
    "import numpy as np\n",
    "import plotly.graph_objects as go\n",
    "import plotly.express as px\n",
    "from plotly.subplots import make_subplots\n",
    "\n",
    "df = pd.read_csv('f1_winners_detailed_analysis.csv')\n",
    "\n",
    "circuit_order = [\n",
    "    'China', 'Miami', 'Bahrain', 'Sakhir', 'South Korea', 'Qatar', 'Azerbaijan',\n",
    "    'Brazil', 'Eifel', 'Abu Dhabi', 'India', 'USA', 'Belgium', 'Turkey', 'Russia',\n",
    "    'Styria', 'Malaysia', 'Germany', 'Austria', 'Singapore'\n",
    "]\n",
    "\n",
    "available_circuits = df['Grand_Prix'].unique()\n",
    "circuit_order_filtered = [circuit for circuit in circuit_order if circuit in available_circuits]\n",
    "\n",
    "remaining_circuits = [circuit for circuit in available_circuits if circuit not in circuit_order_filtered]\n",
    "final_circuit_order = circuit_order_filtered + sorted(remaining_circuits)\n",
    "\n",
    "data_for_chart = []\n",
    "\n",
    "for circuit in final_circuit_order:\n",
    "    circuit_data = df[df['Grand_Prix'] == circuit]\n",
    "    category_counts = circuit_data['Starting_Position_Category'].value_counts()\n",
    "    \n",
    "    p1_count = category_counts.get('P1', 0)\n",
    "    p2_count = category_counts.get('P2', 0)\n",
    "    p3_count = category_counts.get('P3', 0)\n",
    "    outside_count = category_counts.get('Outside Top 3', 0)\n",
    "    \n",
    "    data_for_chart.append({\n",
    "        'Circuit': circuit,\n",
    "        'P1': p1_count,\n",
    "        'P2': p2_count,\n",
    "        'P3': p3_count,\n",
    "        'Outside Top 3': outside_count,\n",
    "        'Total': p1_count + p2_count + p3_count + outside_count\n",
    "    })\n",
    "\n",
    "chart_df = pd.DataFrame(data_for_chart)\n",
    "\n",
    "colors = {\n",
    "    'P1': '#DC143C',\n",
    "    'P2': '#FF6B6B',\n",
    "    'P3': '#FFB3B3',\n",
    "    'Outside Top 3': '#E8E8E8'\n",
    "}\n",
    "\n",
    "fig = go.Figure()\n",
    "\n",
    "fig.add_trace(go.Bar(\n",
    "    name='Pole Position',\n",
    "    x=chart_df['Circuit'],\n",
    "    y=chart_df['P1'],\n",
    "    marker_color=colors['P1'],\n",
    "    marker_line_color='white',\n",
    "    marker_line_width=1,\n",
    "    text=[str(val) if val > 0 else '' for val in chart_df['P1']],\n",
    "    textposition='inside',\n",
    "    textfont=dict(color='white', size=9, family=\"Inter, Arial\"),\n",
    "    hovertemplate='<b>%{x}</b><br><span style=\"color:black\">Pole Position: %{y} wins</span><extra></extra>'\n",
    "))\n",
    "\n",
    "fig.add_trace(go.Bar(\n",
    "    name='P2 Start',\n",
    "    x=chart_df['Circuit'],\n",
    "    y=chart_df['P2'],\n",
    "    marker_color=colors['P2'],\n",
    "    marker_line_color='white',\n",
    "    marker_line_width=1,\n",
    "    text=[str(val) if val > 0 else '' for val in chart_df['P2']],\n",
    "    textposition='inside',\n",
    "    textfont=dict(color='white', size=9, family=\"Inter, Arial\"),\n",
    "    hovertemplate='<b>%{x}</b><br><span style=\"color:black\">P2 Start: %{y} wins</span><extra></extra>'\n",
    "))\n",
    "\n",
    "fig.add_trace(go.Bar(\n",
    "    name='P3 Start',\n",
    "    x=chart_df['Circuit'],\n",
    "    y=chart_df['P3'],\n",
    "    marker_color=colors['P3'],\n",
    "    marker_line_color='white',\n",
    "    marker_line_width=1,\n",
    "    text=[str(val) if val > 0 else '' for val in chart_df['P3']],\n",
    "    textposition='inside',\n",
    "    textfont=dict(color='white', size=9, family=\"Inter, Arial\"),\n",
    "    hovertemplate='<b>%{x}</b><br><span style=\"color:black\">P3 Start: %{y} wins</span><extra></extra>'\n",
    "))\n",
    "\n",
    "fig.add_trace(go.Bar(\n",
    "    name='Outside Top 3',\n",
    "    x=chart_df['Circuit'],\n",
    "    y=chart_df['Outside Top 3'],\n",
    "    marker_color=colors['Outside Top 3'],\n",
    "    marker_line_color='white',\n",
    "    marker_line_width=1,\n",
    "    text=[str(val) if val > 0 else '' for val in chart_df['Outside Top 3']],\n",
    "    textposition='inside',\n",
    "    textfont=dict(color='#666666', size=9, family=\"Inter, Arial\"),\n",
    "    hovertemplate='<b>%{x}</b><br><span style=\"color:black\">Outside Top 3: %{y} wins</span><extra></extra>'\n",
    "))\n",
    "\n",
    "fig.update_layout(\n",
    "    title=None,\n",
    "\n",
    "    xaxis=dict(\n",
    "        title=dict(\n",
    "            text=\"Circuit\",\n",
    "            font=dict(size=12, color='#2C2C2C', family=\"Inter, Arial\")\n",
    "        ),\n",
    "        tickfont=dict(size=9, color='#2C2C2C'),\n",
    "        tickangle=-45,\n",
    "        showgrid=False,\n",
    "        showline=True,\n",
    "        linewidth=1,\n",
    "        linecolor='#E0E0E0',\n",
    "        mirror=False\n",
    "    ),\n",
    "    \n",
    "    yaxis=dict(\n",
    "        title=dict(\n",
    "            text=\"Race Wins\",\n",
    "            font=dict(size=12, color='#2C2C2C', family=\"Inter, Arial\")\n",
    "        ),\n",
    "        tickfont=dict(size=9, color='#2C2C2C'),\n",
    "        showgrid=True,\n",
    "        gridwidth=1,\n",
    "        gridcolor='#F5F5F5',\n",
    "        showline=True,\n",
    "        linewidth=1,\n",
    "        linecolor='#E0E0E0',\n",
    "        zeroline=False\n",
    "    ),\n",
    "    \n",
    "    barmode='stack',\n",
    "    \n",
    "    plot_bgcolor='white',\n",
    "    paper_bgcolor='white',\n",
    "    \n",
    "    width=900,\n",
    "    height=450,\n",
    "    \n",
    "    margin=dict(l=50, r=30, t=30, b=120),\n",
    "    \n",
    "    legend=dict(\n",
    "        orientation=\"h\",\n",
    "        yanchor=\"bottom\",\n",
    "        y=-0.35,\n",
    "        xanchor=\"center\",\n",
    "        x=0.5,\n",
    "        font=dict(size=10, color='#2C2C2C', family=\"Inter, Arial\"),\n",
    "        bgcolor='rgba(255,255,255,0)',\n",
    "        borderwidth=0\n",
    "    ),\n",
    "    \n",
    "    font=dict(family=\"Inter, Arial, sans-serif\", color='#2C2C2C'),\n",
    "    showlegend=True,\n",
    "    \n",
    "    hoverlabel=dict(\n",
    "        bgcolor=\"white\",\n",
    "        bordercolor=\"#E0E0E0\",\n",
    "        font_size=10,\n",
    "        font_family=\"Inter, Arial\",\n",
    "        font_color=\"black\"\n",
    "    )\n",
    ")\n",
    "\n",
    "fig.update_xaxes(showticklabels=True, ticks=\"\")\n",
    "fig.update_yaxes(showticklabels=True, ticks=\"\")\n",
    "\n",
    "fig.show()"
   ]
  },
  {
   "cell_type": "code",
   "execution_count": null,
   "id": "a51750fd",
   "metadata": {},
   "outputs": [],
   "source": []
  }
 ],
 "metadata": {
  "kernelspec": {
   "display_name": "base",
   "language": "python",
   "name": "python3"
  },
  "language_info": {
   "codemirror_mode": {
    "name": "ipython",
    "version": 3
   },
   "file_extension": ".py",
   "mimetype": "text/x-python",
   "name": "python",
   "nbconvert_exporter": "python",
   "pygments_lexer": "ipython3",
   "version": "3.13.2"
  }
 },
 "nbformat": 4,
 "nbformat_minor": 5
}