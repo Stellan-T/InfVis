{
 "cells": [
  {
   "cell_type": "code",
   "execution_count": 1,
   "id": "20d0b82d",
   "metadata": {},
   "outputs": [],
   "source": [
    "%run theme.ipynb"
   ]
  },
  {
   "cell_type": "code",
   "execution_count": 2,
   "id": "8eb8098c",
   "metadata": {},
   "outputs": [
    {
     "data": {
      "application/vnd.plotly.v1+json": {
       "config": {
        "plotlyServerURL": "https://plot.ly"
       },
       "data": [
        {
         "marker": {
          "color": "#A80000"
         },
         "name": "P1",
         "text": {
          "bdata": "AAAAAAAAIkAAAAAAAAAAAAAAAAAAACBAAAAAAAAAAAAAAAAAAADwPwAAAAAAAPA/AAAAAAAA8D8AAAAAAAAqQAAAAAAAAAAAAAAAAAAAIkAAAAAAAAAIQAAAAAAAACBAAAAAAAAAJkAAAAAAAAAYQAAAAAAAAABAAAAAAAAAAEAAAAAAAAAiQAAAAAAAACZAAAAAAAAAHEAAAAAAAAAgQA==",
          "dtype": "f8"
         },
         "textfont": {
          "color": "white",
          "size": 10
         },
         "textposition": "inside",
         "type": "bar",
         "x": [
          "China",
          "Miami",
          "Bahrain",
          "Sakhir",
          "South Korea",
          "Qatar",
          "Azerbaijan",
          "Brazil",
          "Eifel",
          "Abu Dhabi",
          "India",
          "USA",
          "Belgium",
          "Turkey",
          "Russia",
          "Styria",
          "Malaysia",
          "Germany",
          "Austria",
          "Singapore"
         ],
         "y": {
          "bdata": "CQAIAAEBAQ0ACQMICwYCAgkLBwg=",
          "dtype": "i1"
         }
        },
        {
         "marker": {
          "color": "#FF3333"
         },
         "name": "P2",
         "text": {
          "bdata": "AAAAAAAAAEAAAAAAAAAAAAAAAAAAABRAAAAAAAAAAAAAAAAAAAAAQAAAAAAAAAAAAAAAAAAA8D8AAAAAAAAkQAAAAAAAAPA/AAAAAAAAEEAAAAAAAAAAAAAAAAAAABxAAAAAAAAAGEAAAAAAAAAAQAAAAAAAAAhAAAAAAAAAAAAAAAAAAAAQQAAAAAAAACBAAAAAAAAACEAAAAAAAADwPw==",
          "dtype": "f8"
         },
         "textfont": {
          "color": "white",
          "size": 10
         },
         "textposition": "inside",
         "type": "bar",
         "x": [
          "China",
          "Miami",
          "Bahrain",
          "Sakhir",
          "South Korea",
          "Qatar",
          "Azerbaijan",
          "Brazil",
          "Eifel",
          "Abu Dhabi",
          "India",
          "USA",
          "Belgium",
          "Turkey",
          "Russia",
          "Styria",
          "Malaysia",
          "Germany",
          "Austria",
          "Singapore"
         ],
         "y": {
          "bdata": "AgAFAAIAAQoBBAAHBgIDAAQIAwE=",
          "dtype": "i1"
         }
        },
        {
         "marker": {
          "color": "#FF7E7E"
         },
         "name": "P3",
         "text": {
          "bdata": "AAAAAAAAAEAAAAAAAADwPwAAAAAAAAhAAAAAAAAAAAAAAAAAAADwPwAAAAAAAAAAAAAAAAAA8D8AAAAAAAAAQAAAAAAAAAAAAAAAAAAAAAAAAAAAAAAAAAAAAAAAAAAAAAAAAAAAFEAAAAAAAAAAAAAAAAAAAABAAAAAAAAAAAAAAAAAAAAAQAAAAAAAAPA/AAAAAAAAEEAAAAAAAAAAQA==",
          "dtype": "f8"
         },
         "textfont": {
          "color": "white",
          "size": 10
         },
         "textposition": "inside",
         "type": "bar",
         "x": [
          "China",
          "Miami",
          "Bahrain",
          "Sakhir",
          "South Korea",
          "Qatar",
          "Azerbaijan",
          "Brazil",
          "Eifel",
          "Abu Dhabi",
          "India",
          "USA",
          "Belgium",
          "Turkey",
          "Russia",
          "Styria",
          "Malaysia",
          "Germany",
          "Austria",
          "Singapore"
         ],
         "y": {
          "bdata": "AgEDAAEAAQIAAAAABQACAAIBBAI=",
          "dtype": "i1"
         }
        },
        {
         "marker": {
          "color": "#D4D4D4"
         },
         "name": "Outside Top 3",
         "text": {
          "bdata": "AAAAAAAACEAAAAAAAAAAAAAAAAAAAABAAAAAAAAA8D8AAAAAAAAAAAAAAAAAAAAAAAAAAAAAAEAAAAAAAAAIQAAAAAAAAAAAAAAAAAAA8D8AAAAAAAAAAAAAAAAAAAhAAAAAAAAAFEAAAAAAAADwPwAAAAAAAPA/AAAAAAAAAAAAAAAAAAAQQAAAAAAAABRAAAAAAAAAAEAAAAAAAAAAQA==",
          "dtype": "f8"
         },
         "textfont": {
          "color": "white",
          "size": 10
         },
         "textposition": "inside",
         "type": "bar",
         "x": [
          "China",
          "Miami",
          "Bahrain",
          "Sakhir",
          "South Korea",
          "Qatar",
          "Azerbaijan",
          "Brazil",
          "Eifel",
          "Abu Dhabi",
          "India",
          "USA",
          "Belgium",
          "Turkey",
          "Russia",
          "Styria",
          "Malaysia",
          "Germany",
          "Austria",
          "Singapore"
         ],
         "y": {
          "bdata": "AwACAQAAAgMAAQADBQEBAAQFAgI=",
          "dtype": "i1"
         }
        }
       ],
       "layout": {
        "barmode": "stack",
        "font": {
         "family": "Arial, sans-serif"
        },
        "height": 600,
        "legend": {
         "orientation": "h",
         "x": 0.5,
         "xanchor": "center",
         "y": 1.02,
         "yanchor": "bottom"
        },
        "margin": {
         "b": 120,
         "l": 60,
         "r": 30,
         "t": 80
        },
        "paper_bgcolor": "white",
        "plot_bgcolor": "white",
        "template": {
         "data": {
          "bar": [
           {
            "error_x": {
             "color": "#2a3f5f"
            },
            "error_y": {
             "color": "#2a3f5f"
            },
            "marker": {
             "line": {
              "color": "#E5ECF6",
              "width": 0
             },
             "pattern": {
              "fillmode": "overlay",
              "size": 10,
              "solidity": 0.2
             }
            },
            "type": "bar"
           }
          ],
          "barpolar": [
           {
            "marker": {
             "line": {
              "color": "#E5ECF6",
              "width": 0.5
             },
             "pattern": {
              "fillmode": "overlay",
              "size": 10,
              "solidity": 0.2
             }
            },
            "type": "barpolar"
           }
          ],
          "carpet": [
           {
            "aaxis": {
             "endlinecolor": "#2a3f5f",
             "gridcolor": "white",
             "linecolor": "white",
             "minorgridcolor": "white",
             "startlinecolor": "#2a3f5f"
            },
            "baxis": {
             "endlinecolor": "#2a3f5f",
             "gridcolor": "white",
             "linecolor": "white",
             "minorgridcolor": "white",
             "startlinecolor": "#2a3f5f"
            },
            "type": "carpet"
           }
          ],
          "choropleth": [
           {
            "colorbar": {
             "outlinewidth": 0,
             "ticks": ""
            },
            "type": "choropleth"
           }
          ],
          "contour": [
           {
            "colorbar": {
             "outlinewidth": 0,
             "ticks": ""
            },
            "colorscale": [
             [
              0.0,
              "#0d0887"
             ],
             [
              0.1111111111111111,
              "#46039f"
             ],
             [
              0.2222222222222222,
              "#7201a8"
             ],
             [
              0.3333333333333333,
              "#9c179e"
             ],
             [
              0.4444444444444444,
              "#bd3786"
             ],
             [
              0.5555555555555556,
              "#d8576b"
             ],
             [
              0.6666666666666666,
              "#ed7953"
             ],
             [
              0.7777777777777778,
              "#fb9f3a"
             ],
             [
              0.8888888888888888,
              "#fdca26"
             ],
             [
              1.0,
              "#f0f921"
             ]
            ],
            "type": "contour"
           }
          ],
          "contourcarpet": [
           {
            "colorbar": {
             "outlinewidth": 0,
             "ticks": ""
            },
            "type": "contourcarpet"
           }
          ],
          "heatmap": [
           {
            "colorbar": {
             "outlinewidth": 0,
             "ticks": ""
            },
            "colorscale": [
             [
              0.0,
              "#0d0887"
             ],
             [
              0.1111111111111111,
              "#46039f"
             ],
             [
              0.2222222222222222,
              "#7201a8"
             ],
             [
              0.3333333333333333,
              "#9c179e"
             ],
             [
              0.4444444444444444,
              "#bd3786"
             ],
             [
              0.5555555555555556,
              "#d8576b"
             ],
             [
              0.6666666666666666,
              "#ed7953"
             ],
             [
              0.7777777777777778,
              "#fb9f3a"
             ],
             [
              0.8888888888888888,
              "#fdca26"
             ],
             [
              1.0,
              "#f0f921"
             ]
            ],
            "type": "heatmap"
           }
          ],
          "histogram": [
           {
            "marker": {
             "pattern": {
              "fillmode": "overlay",
              "size": 10,
              "solidity": 0.2
             }
            },
            "type": "histogram"
           }
          ],
          "histogram2d": [
           {
            "colorbar": {
             "outlinewidth": 0,
             "ticks": ""
            },
            "colorscale": [
             [
              0.0,
              "#0d0887"
             ],
             [
              0.1111111111111111,
              "#46039f"
             ],
             [
              0.2222222222222222,
              "#7201a8"
             ],
             [
              0.3333333333333333,
              "#9c179e"
             ],
             [
              0.4444444444444444,
              "#bd3786"
             ],
             [
              0.5555555555555556,
              "#d8576b"
             ],
             [
              0.6666666666666666,
              "#ed7953"
             ],
             [
              0.7777777777777778,
              "#fb9f3a"
             ],
             [
              0.8888888888888888,
              "#fdca26"
             ],
             [
              1.0,
              "#f0f921"
             ]
            ],
            "type": "histogram2d"
           }
          ],
          "histogram2dcontour": [
           {
            "colorbar": {
             "outlinewidth": 0,
             "ticks": ""
            },
            "colorscale": [
             [
              0.0,
              "#0d0887"
             ],
             [
              0.1111111111111111,
              "#46039f"
             ],
             [
              0.2222222222222222,
              "#7201a8"
             ],
             [
              0.3333333333333333,
              "#9c179e"
             ],
             [
              0.4444444444444444,
              "#bd3786"
             ],
             [
              0.5555555555555556,
              "#d8576b"
             ],
             [
              0.6666666666666666,
              "#ed7953"
             ],
             [
              0.7777777777777778,
              "#fb9f3a"
             ],
             [
              0.8888888888888888,
              "#fdca26"
             ],
             [
              1.0,
              "#f0f921"
             ]
            ],
            "type": "histogram2dcontour"
           }
          ],
          "mesh3d": [
           {
            "colorbar": {
             "outlinewidth": 0,
             "ticks": ""
            },
            "type": "mesh3d"
           }
          ],
          "parcoords": [
           {
            "line": {
             "colorbar": {
              "outlinewidth": 0,
              "ticks": ""
             }
            },
            "type": "parcoords"
           }
          ],
          "pie": [
           {
            "automargin": true,
            "type": "pie"
           }
          ],
          "scatter": [
           {
            "fillpattern": {
             "fillmode": "overlay",
             "size": 10,
             "solidity": 0.2
            },
            "type": "scatter"
           }
          ],
          "scatter3d": [
           {
            "line": {
             "colorbar": {
              "outlinewidth": 0,
              "ticks": ""
             }
            },
            "marker": {
             "colorbar": {
              "outlinewidth": 0,
              "ticks": ""
             }
            },
            "type": "scatter3d"
           }
          ],
          "scattercarpet": [
           {
            "marker": {
             "colorbar": {
              "outlinewidth": 0,
              "ticks": ""
             }
            },
            "type": "scattercarpet"
           }
          ],
          "scattergeo": [
           {
            "marker": {
             "colorbar": {
              "outlinewidth": 0,
              "ticks": ""
             }
            },
            "type": "scattergeo"
           }
          ],
          "scattergl": [
           {
            "marker": {
             "colorbar": {
              "outlinewidth": 0,
              "ticks": ""
             }
            },
            "type": "scattergl"
           }
          ],
          "scattermap": [
           {
            "marker": {
             "colorbar": {
              "outlinewidth": 0,
              "ticks": ""
             }
            },
            "type": "scattermap"
           }
          ],
          "scattermapbox": [
           {
            "marker": {
             "colorbar": {
              "outlinewidth": 0,
              "ticks": ""
             }
            },
            "type": "scattermapbox"
           }
          ],
          "scatterpolar": [
           {
            "marker": {
             "colorbar": {
              "outlinewidth": 0,
              "ticks": ""
             }
            },
            "type": "scatterpolar"
           }
          ],
          "scatterpolargl": [
           {
            "marker": {
             "colorbar": {
              "outlinewidth": 0,
              "ticks": ""
             }
            },
            "type": "scatterpolargl"
           }
          ],
          "scatterternary": [
           {
            "marker": {
             "colorbar": {
              "outlinewidth": 0,
              "ticks": ""
             }
            },
            "type": "scatterternary"
           }
          ],
          "surface": [
           {
            "colorbar": {
             "outlinewidth": 0,
             "ticks": ""
            },
            "colorscale": [
             [
              0.0,
              "#0d0887"
             ],
             [
              0.1111111111111111,
              "#46039f"
             ],
             [
              0.2222222222222222,
              "#7201a8"
             ],
             [
              0.3333333333333333,
              "#9c179e"
             ],
             [
              0.4444444444444444,
              "#bd3786"
             ],
             [
              0.5555555555555556,
              "#d8576b"
             ],
             [
              0.6666666666666666,
              "#ed7953"
             ],
             [
              0.7777777777777778,
              "#fb9f3a"
             ],
             [
              0.8888888888888888,
              "#fdca26"
             ],
             [
              1.0,
              "#f0f921"
             ]
            ],
            "type": "surface"
           }
          ],
          "table": [
           {
            "cells": {
             "fill": {
              "color": "#EBF0F8"
             },
             "line": {
              "color": "white"
             }
            },
            "header": {
             "fill": {
              "color": "#C8D4E3"
             },
             "line": {
              "color": "white"
             }
            },
            "type": "table"
           }
          ]
         },
         "layout": {
          "annotationdefaults": {
           "arrowcolor": "#343a42",
           "arrowhead": 0,
           "arrowwidth": 1
          },
          "autotypenumbers": "strict",
          "coloraxis": {
           "colorbar": {
            "outlinewidth": 0,
            "ticks": ""
           }
          },
          "colorscale": {
           "diverging": [
            [
             0,
             "#8e0152"
            ],
            [
             0.1,
             "#c51b7d"
            ],
            [
             0.2,
             "#de77ae"
            ],
            [
             0.3,
             "#f1b6da"
            ],
            [
             0.4,
             "#fde0ef"
            ],
            [
             0.5,
             "#f7f7f7"
            ],
            [
             0.6,
             "#e6f5d0"
            ],
            [
             0.7,
             "#b8e186"
            ],
            [
             0.8,
             "#7fbc41"
            ],
            [
             0.9,
             "#4d9221"
            ],
            [
             1,
             "#276419"
            ]
           ],
           "sequential": [
            [
             0.0,
             "#0d0887"
            ],
            [
             0.1111111111111111,
             "#46039f"
            ],
            [
             0.2222222222222222,
             "#7201a8"
            ],
            [
             0.3333333333333333,
             "#9c179e"
            ],
            [
             0.4444444444444444,
             "#bd3786"
            ],
            [
             0.5555555555555556,
             "#d8576b"
            ],
            [
             0.6666666666666666,
             "#ed7953"
            ],
            [
             0.7777777777777778,
             "#fb9f3a"
            ],
            [
             0.8888888888888888,
             "#fdca26"
            ],
            [
             1.0,
             "#f0f921"
            ]
           ],
           "sequentialminus": [
            [
             0.0,
             "#0d0887"
            ],
            [
             0.1111111111111111,
             "#46039f"
            ],
            [
             0.2222222222222222,
             "#7201a8"
            ],
            [
             0.3333333333333333,
             "#9c179e"
            ],
            [
             0.4444444444444444,
             "#bd3786"
            ],
            [
             0.5555555555555556,
             "#d8576b"
            ],
            [
             0.6666666666666666,
             "#ed7953"
            ],
            [
             0.7777777777777778,
             "#fb9f3a"
            ],
            [
             0.8888888888888888,
             "#fdca26"
            ],
            [
             1.0,
             "#f0f921"
            ]
           ]
          },
          "colorway": [
           "#343a42",
           "#4edcda",
           "#4c75eb",
           "#ef4de5",
           "#f74e4e",
           "#2d8923",
           "#f7b24e",
           "#2b9694",
           "#3a34b5",
           "#a736a0",
           "#b33c3c",
           "#2d8923"
          ],
          "font": {
           "color": "#343a42"
          },
          "geo": {
           "bgcolor": "white",
           "lakecolor": "white",
           "landcolor": "#E5ECF6",
           "showlakes": true,
           "showland": true,
           "subunitcolor": "white"
          },
          "hoverlabel": {
           "align": "left"
          },
          "hovermode": "closest",
          "mapbox": {
           "style": "light"
          },
          "paper_bgcolor": "#f5f5f5",
          "plot_bgcolor": "rgba(0,0,0,0)",
          "polar": {
           "angularaxis": {
            "gridcolor": "white",
            "linecolor": "white",
            "ticks": ""
           },
           "bgcolor": "#E5ECF6",
           "radialaxis": {
            "gridcolor": "white",
            "linecolor": "white",
            "ticks": ""
           }
          },
          "scene": {
           "xaxis": {
            "backgroundcolor": "#E5ECF6",
            "gridcolor": "white",
            "gridwidth": 2,
            "linecolor": "white",
            "showbackground": true,
            "ticks": "",
            "zerolinecolor": "white"
           },
           "yaxis": {
            "backgroundcolor": "#E5ECF6",
            "gridcolor": "white",
            "gridwidth": 2,
            "linecolor": "white",
            "showbackground": true,
            "ticks": "",
            "zerolinecolor": "white"
           },
           "zaxis": {
            "backgroundcolor": "#E5ECF6",
            "gridcolor": "white",
            "gridwidth": 2,
            "linecolor": "white",
            "showbackground": true,
            "ticks": "",
            "zerolinecolor": "white"
           }
          },
          "shapedefaults": {
           "line": {
            "color": "#2a3f5f"
           }
          },
          "ternary": {
           "aaxis": {
            "gridcolor": "white",
            "linecolor": "white",
            "ticks": ""
           },
           "baxis": {
            "gridcolor": "white",
            "linecolor": "white",
            "ticks": ""
           },
           "bgcolor": "#E5ECF6",
           "caxis": {
            "gridcolor": "white",
            "linecolor": "white",
            "ticks": ""
           }
          },
          "title": {
           "x": 0.5
          },
          "xaxis": {
           "automargin": true,
           "gridcolor": "#cccccc",
           "linecolor": "white",
           "ticks": "",
           "title": {
            "standoff": 15
           },
           "zerolinecolor": "#cccccc",
           "zerolinewidth": 1
          },
          "yaxis": {
           "automargin": true,
           "gridcolor": "#cccccc",
           "linecolor": "white",
           "ticks": "",
           "title": {
            "standoff": 15
           },
           "zerolinecolor": "#cccccc",
           "zerolinewidth": 1
          }
         }
        },
        "title": {
         "font": {
          "color": "#000000",
          "size": 16
         },
         "text": "Win conversie van startposities in de Formule 1 van de top 20 circuits met gemiddeld de meeste overtakes",
         "x": 0.5,
         "xanchor": "center"
        },
        "width": 1000,
        "xaxis": {
         "tickangle": -45,
         "tickfont": {
          "color": "#000000",
          "size": 11
         },
         "title": {
          "font": {
           "color": "#000000",
           "size": 14
          },
          "text": "Grand Prix Circuit"
         }
        },
        "yaxis": {
         "tickfont": {
          "color": "#000000",
          "size": 12
         },
         "title": {
          "font": {
           "color": "#000000",
           "size": 14
          },
          "text": "Number of Wins"
         }
        }
       }
      }
     },
     "metadata": {},
     "output_type": "display_data"
    },
    {
     "name": "stdout",
     "output_type": "stream",
     "text": [
      "P1: 109 wins (47.6%)\n",
      "P2: 59 wins (25.8%)\n",
      "P3: 26 wins (11.4%)\n",
      "Outside Top 3: 35 wins (15.3%)\n"
     ]
    }
   ],
   "source": [
    "import pandas as pd\n",
    "import numpy as np\n",
    "import plotly.graph_objects as go\n",
    "import plotly.offline as pyo\n",
    "from collections import Counter\n",
    "\n",
    "# Read the CSV file\n",
    "df = pd.read_csv('f1_winners_detailed_analysis.csv')\n",
    "\n",
    "# Define circuit order based on the ranking\n",
    "circuit_order = [\n",
    "    'China', 'Miami', 'Bahrain', 'Sakhir', 'South Korea', 'Qatar', 'Azerbaijan',\n",
    "    'Brazil', 'Eifel', 'Abu Dhabi', 'India', 'USA', 'Belgium', 'Turkey', 'Russia',\n",
    "    'Styria', 'Malaysia', 'Germany', 'Austria', 'Singapore'\n",
    "]\n",
    "\n",
    "# Filter to only include circuits that exist in our data\n",
    "available_circuits = df['Grand_Prix'].unique()\n",
    "circuit_order_filtered = [circuit for circuit in circuit_order if circuit in available_circuits]\n",
    "\n",
    "# Add any remaining circuits not in the specified order\n",
    "remaining_circuits = [circuit for circuit in available_circuits if circuit not in circuit_order_filtered]\n",
    "final_circuit_order = circuit_order_filtered + sorted(remaining_circuits)\n",
    "# Count occurrences of each starting position category by circuit\n",
    "data_for_chart = []\n",
    "\n",
    "for circuit in final_circuit_order:\n",
    "    circuit_data = df[df['Grand_Prix'] == circuit]\n",
    "    category_counts = circuit_data['Starting_Position_Category'].value_counts()\n",
    "    \n",
    "    p1_count = category_counts.get('P1', 0)\n",
    "    p2_count = category_counts.get('P2', 0)\n",
    "    p3_count = category_counts.get('P3', 0)\n",
    "    outside_count = category_counts.get('Outside Top 3', 0)\n",
    "    \n",
    "    data_for_chart.append({\n",
    "        'Circuit': circuit,\n",
    "        'P1': p1_count,\n",
    "        'P2': p2_count,\n",
    "        'P3': p3_count,\n",
    "        'Outside Top 3': outside_count,\n",
    "        'Total': p1_count + p2_count + p3_count + outside_count\n",
    "    })\n",
    "\n",
    "chart_df = pd.DataFrame(data_for_chart)\n",
    "\n",
    "# Define colors for each starting position category\n",
    "colors = {\n",
    "    'P1': \"#A80000\",           # Dark red\n",
    "    'P2': \"#FF3333\",           # Lighter red\n",
    "    'P3': \"#FF7E7E\",           # Even lighter red\n",
    "    'Outside Top 3': \"#D4D4D4\"  # Gray\n",
    "}\n",
    "\n",
    "# Create the stacked bar chart\n",
    "fig = go.Figure()\n",
    "\n",
    "# Add bars for each category\n",
    "for category in ['P1', 'P2', 'P3', 'Outside Top 3']:\n",
    "    fig.add_trace(go.Bar(\n",
    "        name=category,\n",
    "        x=chart_df['Circuit'],\n",
    "        y=chart_df[category],\n",
    "        marker_color=colors[category],\n",
    "        text=chart_df[category],\n",
    "        textposition='inside',\n",
    "        textfont=dict(color='white', size=10)\n",
    "    ))\n",
    "\n",
    "# Update layout\n",
    "fig.update_layout(\n",
    "    title={\n",
    "        'text': 'Win conversie van startposities in de Formule 1 van de top 20 circuits met gemiddeld de meeste overtakes',\n",
    "        'x': 0.5,\n",
    "        'xanchor': 'center',\n",
    "        'font': {'size': 16, 'color': \"#000000\"}\n",
    "    },\n",
    "    xaxis={\n",
    "        'title': 'Grand Prix Circuit',\n",
    "        'tickangle': -45,\n",
    "        'title_font': {'size': 14, 'color': \"#000000\"},\n",
    "        'tickfont': {'size': 11, 'color': \"#000000\"}\n",
    "    },\n",
    "    yaxis={\n",
    "        'title': 'Number of Wins',\n",
    "        'title_font': {'size': 14, 'color': \"#000000\"},\n",
    "        'tickfont': {'size': 12, 'color': \"#000000\"}\n",
    "    },\n",
    "    barmode='stack',\n",
    "    plot_bgcolor='white',\n",
    "    paper_bgcolor='white',\n",
    "    width=1000,\n",
    "    height=600,\n",
    "    margin=dict(l=60, r=30, t=80, b=120),\n",
    "    legend=dict(\n",
    "        orientation='h',\n",
    "        yanchor='bottom',\n",
    "        y=1.02,\n",
    "        xanchor='center',\n",
    "        x=0.5\n",
    "    ),\n",
    "    font=dict(family=\"Arial, sans-serif\")\n",
    ")\n",
    "\n",
    "# Show the chart\n",
    "fig.show()\n",
    "\n",
    "# Also save as HTML for embedding in Jupyter Book\n",
    "fig.write_html(\"f1_starting_positions_bar_chart.html\")\n",
    "\n",
    "category_totals = df['Starting_Position_Category'].value_counts()\n",
    "for category in ['P1', 'P2', 'P3', 'Outside Top 3']:\n",
    "    count = category_totals.get(category, 0)\n",
    "    percentage = (count / len(df)) * 100\n",
    "    print(f\"{category}: {count} wins ({percentage:.1f}%)\")"
   ]
  },
  {
   "cell_type": "code",
   "execution_count": null,
   "id": "4e1a19b0",
   "metadata": {},
   "outputs": [],
   "source": []
  }
 ],
 "metadata": {
  "kernelspec": {
   "display_name": "base",
   "language": "python",
   "name": "python3"
  },
  "language_info": {
   "codemirror_mode": {
    "name": "ipython",
    "version": 3
   },
   "file_extension": ".py",
   "mimetype": "text/x-python",
   "name": "python",
   "nbconvert_exporter": "python",
   "pygments_lexer": "ipython3",
   "version": "3.13.2"
  }
 },
 "nbformat": 4,
 "nbformat_minor": 5
}