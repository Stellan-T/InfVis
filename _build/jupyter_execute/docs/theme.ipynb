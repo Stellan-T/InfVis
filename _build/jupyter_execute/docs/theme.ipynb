{
 "cells": [
  {
   "cell_type": "code",
   "execution_count": 1,
   "id": "ba9aa2ad",
   "metadata": {},
   "outputs": [
    {
     "ename": "ModuleNotFoundError",
     "evalue": "No module named 'plotly'",
     "output_type": "error",
     "traceback": [
      "\u001b[31m---------------------------------------------------------------------------\u001b[39m",
      "\u001b[31mModuleNotFoundError\u001b[39m                       Traceback (most recent call last)",
      "\u001b[36mCell\u001b[39m\u001b[36m \u001b[39m\u001b[32mIn[1]\u001b[39m\u001b[32m, line 1\u001b[39m\n\u001b[32m----> \u001b[39m\u001b[32m1\u001b[39m \u001b[38;5;28;01mimport\u001b[39;00m\u001b[38;5;250m \u001b[39m\u001b[34;01mplotly\u001b[39;00m\u001b[34;01m.\u001b[39;00m\u001b[34;01mio\u001b[39;00m\u001b[38;5;250m \u001b[39m\u001b[38;5;28;01mas\u001b[39;00m\u001b[38;5;250m \u001b[39m\u001b[34;01mpio\u001b[39;00m\n\u001b[32m      3\u001b[39m \u001b[38;5;28;01mif\u001b[39;00m \u001b[33m'\u001b[39m\u001b[33mcustom\u001b[39m\u001b[33m'\u001b[39m \u001b[38;5;129;01mnot\u001b[39;00m \u001b[38;5;129;01min\u001b[39;00m pio.templates:\n\u001b[32m      4\u001b[39m     transparent = \u001b[33m'\u001b[39m\u001b[33mrgba(0,0,0,0)\u001b[39m\u001b[33m'\u001b[39m\n",
      "\u001b[31mModuleNotFoundError\u001b[39m: No module named 'plotly'"
     ]
    }
   ],
   "source": [
    "import plotly.io as pio\n",
    "\n",
    "if 'custom' not in pio.templates:\n",
    "    transparent = 'rgba(0,0,0,0)'\n",
    "    bgcolor = '#f5f5f5'  # Light gray background\n",
    "    black = '#343a42'\n",
    "    cyan = '#4edcda'\n",
    "    darkcyan = '#2b9694'\n",
    "    blue = '#4c75eb'\n",
    "    darkblue = '#3a34b5'\n",
    "    pink = '#ef4de5'\n",
    "    purple = '#a736a0'\n",
    "    red = '#f74e4e'\n",
    "    darkred = '#b33c3c'\n",
    "    green = '#2d8923'\n",
    "    darkgreen = '#2d8923'\n",
    "    orange = '#f7b24e'\n",
    "    brown = '#cccccc'  # Light gray for grid lines\n",
    "\n",
    "    pio.templates['custom'] = pio.templates['plotly']\n",
    "\n",
    "    pio.templates['custom'].update({\n",
    "        'data': {\n",
    "            'bar': [\n",
    "                {\n",
    "                    'marker': {\n",
    "                        'line': {'width': 0},\n",
    "                    }\n",
    "                }\n",
    "            ]\n",
    "        },\n",
    "        'layout': {\n",
    "            'paper_bgcolor': bgcolor,\n",
    "            'plot_bgcolor': transparent,\n",
    "            'font': {'color': black},\n",
    "            'xaxis': {\n",
    "                'zerolinecolor': brown,\n",
    "                'gridcolor': brown,\n",
    "                'zerolinewidth': 1,\n",
    "            },\n",
    "            'yaxis': {\n",
    "                'zerolinecolor': brown,\n",
    "                'gridcolor': brown,\n",
    "                'zerolinewidth': 1\n",
    "            },    \n",
    "           'colorway': [black, \n",
    "                        cyan,     blue,     pink,   red,     green,     orange,\n",
    "                        darkcyan, darkblue, purple, darkred, darkgreen],\n",
    "            'title': {'x': 0.5},\n",
    "            'annotationdefaults': {'arrowcolor': black},\n",
    "\n",
    "        }\n",
    "    })\n",
    "\n",
    "    pio.templates.default = 'custom'"
   ]
  }
 ],
 "metadata": {
  "language_info": {
   "codemirror_mode": {
    "name": "ipython",
    "version": 3
   },
   "file_extension": ".py",
   "mimetype": "text/x-python",
   "name": "python",
   "nbconvert_exporter": "python",
   "pygments_lexer": "ipython3",
   "version": "3.13.2"
  }
 },
 "nbformat": 4,
 "nbformat_minor": 5
}