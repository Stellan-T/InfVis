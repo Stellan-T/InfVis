{
 "cells": [
  {
   "cell_type": "code",
   "execution_count": 1,
   "id": "b7dbf5cf",
   "metadata": {},
   "outputs": [],
   "source": [
    "%run theme.ipynb"
   ]
  },
  {
   "cell_type": "code",
   "execution_count": 2,
   "id": "7feef4da",
   "metadata": {},
   "outputs": [
    {
     "data": {
      "application/vnd.plotly.v1+json": {
       "config": {
        "displayModeBar": false,
        "displaylogo": false,
        "doubleClick": false,
        "modeBarButtonsToRemove": [
         "zoom",
         "pan",
         "select",
         "lasso",
         "zoomIn",
         "zoomOut",
         "autoScale",
         "resetScale"
        ],
        "plotlyServerURL": "https://plot.ly",
        "responsive": false,
        "scrollZoom": false,
        "showTips": false,
        "staticPlot": true
       },
       "data": [
        {
         "marker": {
          "color": "#FF0000",
          "line": {
           "color": "rgba(0,0,0,0)",
           "width": 0
          },
          "opacity": 0.8
         },
         "name": "Position Changes",
         "type": "bar",
         "x": {
          "bdata": "AAAAAAAANMAAAAAAAAAzwAAAAAAAADLAAAAAAAAAMcAAAAAAAAAwwAAAAAAAAC7AAAAAAAAALMAAAAAAAAAqwAAAAAAAACjAAAAAAAAAJsAAAAAAAAAkwAAAAAAAACLAAAAAAAAAIMAAAAAAAAAcwAAAAAAAABjAAAAAAAAAFMAAAAAAAAAQwAAAAAAAAAjAAAAAAAAAAMAAAAAAAADwvwAAAAAAAAAAAAAAAAAA8D8AAAAAAAAAQAAAAAAAAAhAAAAAAAAAEEAAAAAAAAAUQAAAAAAAABhAAAAAAAAAHEAAAAAAAAAgQAAAAAAAACJAAAAAAAAAJEAAAAAAAAAmQAAAAAAAAChAAAAAAAAAKkAAAAAAAAAsQAAAAAAAAC5AAAAAAAAAMUA=",
          "dtype": "f8"
         },
         "y": {
          "bdata": "AQADAAcACgATABcAKgAqAEoAYACMAJwA3wA0AZMBDAJYAqMCUgP8A4cEmAKbASQBrQCTAFYAQgAiAC4AFQAWABAABwAGAAUABAA=",
          "dtype": "i2"
         }
        }
       ],
       "layout": {
        "annotations": [
         {
          "align": "center",
          "font": {
           "color": "#5D6D7E",
           "size": 11,
           "style": "italic"
          },
          "showarrow": false,
          "text": "Coureurs die verder vooraan starten, hebben een duidelijk voordeel bij het behalen van een hoge eindpositie.",
          "x": 0.5,
          "xanchor": "center",
          "xref": "paper",
          "y": -0.15,
          "yanchor": "top",
          "yref": "paper"
         }
        ],
        "dragmode": false,
        "font": {
         "color": "#2C3E50",
         "family": "Arial, sans-serif",
         "size": 12
        },
        "height": 500,
        "margin": {
         "b": 80,
         "l": 60,
         "r": 40,
         "t": 60
        },
        "paper_bgcolor": "white",
        "plot_bgcolor": "white",
        "template": {
         "data": {
          "bar": [
           {
            "error_x": {
             "color": "#2a3f5f"
            },
            "error_y": {
             "color": "#2a3f5f"
            },
            "marker": {
             "line": {
              "color": "#E5ECF6",
              "width": 0
             },
             "pattern": {
              "fillmode": "overlay",
              "size": 10,
              "solidity": 0.2
             }
            },
            "type": "bar"
           }
          ],
          "barpolar": [
           {
            "marker": {
             "line": {
              "color": "#E5ECF6",
              "width": 0.5
             },
             "pattern": {
              "fillmode": "overlay",
              "size": 10,
              "solidity": 0.2
             }
            },
            "type": "barpolar"
           }
          ],
          "carpet": [
           {
            "aaxis": {
             "endlinecolor": "#2a3f5f",
             "gridcolor": "white",
             "linecolor": "white",
             "minorgridcolor": "white",
             "startlinecolor": "#2a3f5f"
            },
            "baxis": {
             "endlinecolor": "#2a3f5f",
             "gridcolor": "white",
             "linecolor": "white",
             "minorgridcolor": "white",
             "startlinecolor": "#2a3f5f"
            },
            "type": "carpet"
           }
          ],
          "choropleth": [
           {
            "colorbar": {
             "outlinewidth": 0,
             "ticks": ""
            },
            "type": "choropleth"
           }
          ],
          "contour": [
           {
            "colorbar": {
             "outlinewidth": 0,
             "ticks": ""
            },
            "colorscale": [
             [
              0.0,
              "#0d0887"
             ],
             [
              0.1111111111111111,
              "#46039f"
             ],
             [
              0.2222222222222222,
              "#7201a8"
             ],
             [
              0.3333333333333333,
              "#9c179e"
             ],
             [
              0.4444444444444444,
              "#bd3786"
             ],
             [
              0.5555555555555556,
              "#d8576b"
             ],
             [
              0.6666666666666666,
              "#ed7953"
             ],
             [
              0.7777777777777778,
              "#fb9f3a"
             ],
             [
              0.8888888888888888,
              "#fdca26"
             ],
             [
              1.0,
              "#f0f921"
             ]
            ],
            "type": "contour"
           }
          ],
          "contourcarpet": [
           {
            "colorbar": {
             "outlinewidth": 0,
             "ticks": ""
            },
            "type": "contourcarpet"
           }
          ],
          "heatmap": [
           {
            "colorbar": {
             "outlinewidth": 0,
             "ticks": ""
            },
            "colorscale": [
             [
              0.0,
              "#0d0887"
             ],
             [
              0.1111111111111111,
              "#46039f"
             ],
             [
              0.2222222222222222,
              "#7201a8"
             ],
             [
              0.3333333333333333,
              "#9c179e"
             ],
             [
              0.4444444444444444,
              "#bd3786"
             ],
             [
              0.5555555555555556,
              "#d8576b"
             ],
             [
              0.6666666666666666,
              "#ed7953"
             ],
             [
              0.7777777777777778,
              "#fb9f3a"
             ],
             [
              0.8888888888888888,
              "#fdca26"
             ],
             [
              1.0,
              "#f0f921"
             ]
            ],
            "type": "heatmap"
           }
          ],
          "histogram": [
           {
            "marker": {
             "pattern": {
              "fillmode": "overlay",
              "size": 10,
              "solidity": 0.2
             }
            },
            "type": "histogram"
           }
          ],
          "histogram2d": [
           {
            "colorbar": {
             "outlinewidth": 0,
             "ticks": ""
            },
            "colorscale": [
             [
              0.0,
              "#0d0887"
             ],
             [
              0.1111111111111111,
              "#46039f"
             ],
             [
              0.2222222222222222,
              "#7201a8"
             ],
             [
              0.3333333333333333,
              "#9c179e"
             ],
             [
              0.4444444444444444,
              "#bd3786"
             ],
             [
              0.5555555555555556,
              "#d8576b"
             ],
             [
              0.6666666666666666,
              "#ed7953"
             ],
             [
              0.7777777777777778,
              "#fb9f3a"
             ],
             [
              0.8888888888888888,
              "#fdca26"
             ],
             [
              1.0,
              "#f0f921"
             ]
            ],
            "type": "histogram2d"
           }
          ],
          "histogram2dcontour": [
           {
            "colorbar": {
             "outlinewidth": 0,
             "ticks": ""
            },
            "colorscale": [
             [
              0.0,
              "#0d0887"
             ],
             [
              0.1111111111111111,
              "#46039f"
             ],
             [
              0.2222222222222222,
              "#7201a8"
             ],
             [
              0.3333333333333333,
              "#9c179e"
             ],
             [
              0.4444444444444444,
              "#bd3786"
             ],
             [
              0.5555555555555556,
              "#d8576b"
             ],
             [
              0.6666666666666666,
              "#ed7953"
             ],
             [
              0.7777777777777778,
              "#fb9f3a"
             ],
             [
              0.8888888888888888,
              "#fdca26"
             ],
             [
              1.0,
              "#f0f921"
             ]
            ],
            "type": "histogram2dcontour"
           }
          ],
          "mesh3d": [
           {
            "colorbar": {
             "outlinewidth": 0,
             "ticks": ""
            },
            "type": "mesh3d"
           }
          ],
          "parcoords": [
           {
            "line": {
             "colorbar": {
              "outlinewidth": 0,
              "ticks": ""
             }
            },
            "type": "parcoords"
           }
          ],
          "pie": [
           {
            "automargin": true,
            "type": "pie"
           }
          ],
          "scatter": [
           {
            "fillpattern": {
             "fillmode": "overlay",
             "size": 10,
             "solidity": 0.2
            },
            "type": "scatter"
           }
          ],
          "scatter3d": [
           {
            "line": {
             "colorbar": {
              "outlinewidth": 0,
              "ticks": ""
             }
            },
            "marker": {
             "colorbar": {
              "outlinewidth": 0,
              "ticks": ""
             }
            },
            "type": "scatter3d"
           }
          ],
          "scattercarpet": [
           {
            "marker": {
             "colorbar": {
              "outlinewidth": 0,
              "ticks": ""
             }
            },
            "type": "scattercarpet"
           }
          ],
          "scattergeo": [
           {
            "marker": {
             "colorbar": {
              "outlinewidth": 0,
              "ticks": ""
             }
            },
            "type": "scattergeo"
           }
          ],
          "scattergl": [
           {
            "marker": {
             "colorbar": {
              "outlinewidth": 0,
              "ticks": ""
             }
            },
            "type": "scattergl"
           }
          ],
          "scattermap": [
           {
            "marker": {
             "colorbar": {
              "outlinewidth": 0,
              "ticks": ""
             }
            },
            "type": "scattermap"
           }
          ],
          "scattermapbox": [
           {
            "marker": {
             "colorbar": {
              "outlinewidth": 0,
              "ticks": ""
             }
            },
            "type": "scattermapbox"
           }
          ],
          "scatterpolar": [
           {
            "marker": {
             "colorbar": {
              "outlinewidth": 0,
              "ticks": ""
             }
            },
            "type": "scatterpolar"
           }
          ],
          "scatterpolargl": [
           {
            "marker": {
             "colorbar": {
              "outlinewidth": 0,
              "ticks": ""
             }
            },
            "type": "scatterpolargl"
           }
          ],
          "scatterternary": [
           {
            "marker": {
             "colorbar": {
              "outlinewidth": 0,
              "ticks": ""
             }
            },
            "type": "scatterternary"
           }
          ],
          "surface": [
           {
            "colorbar": {
             "outlinewidth": 0,
             "ticks": ""
            },
            "colorscale": [
             [
              0.0,
              "#0d0887"
             ],
             [
              0.1111111111111111,
              "#46039f"
             ],
             [
              0.2222222222222222,
              "#7201a8"
             ],
             [
              0.3333333333333333,
              "#9c179e"
             ],
             [
              0.4444444444444444,
              "#bd3786"
             ],
             [
              0.5555555555555556,
              "#d8576b"
             ],
             [
              0.6666666666666666,
              "#ed7953"
             ],
             [
              0.7777777777777778,
              "#fb9f3a"
             ],
             [
              0.8888888888888888,
              "#fdca26"
             ],
             [
              1.0,
              "#f0f921"
             ]
            ],
            "type": "surface"
           }
          ],
          "table": [
           {
            "cells": {
             "fill": {
              "color": "#EBF0F8"
             },
             "line": {
              "color": "white"
             }
            },
            "header": {
             "fill": {
              "color": "#C8D4E3"
             },
             "line": {
              "color": "white"
             }
            },
            "type": "table"
           }
          ]
         },
         "layout": {
          "annotationdefaults": {
           "arrowcolor": "#343a42",
           "arrowhead": 0,
           "arrowwidth": 1
          },
          "autotypenumbers": "strict",
          "coloraxis": {
           "colorbar": {
            "outlinewidth": 0,
            "ticks": ""
           }
          },
          "colorscale": {
           "diverging": [
            [
             0,
             "#8e0152"
            ],
            [
             0.1,
             "#c51b7d"
            ],
            [
             0.2,
             "#de77ae"
            ],
            [
             0.3,
             "#f1b6da"
            ],
            [
             0.4,
             "#fde0ef"
            ],
            [
             0.5,
             "#f7f7f7"
            ],
            [
             0.6,
             "#e6f5d0"
            ],
            [
             0.7,
             "#b8e186"
            ],
            [
             0.8,
             "#7fbc41"
            ],
            [
             0.9,
             "#4d9221"
            ],
            [
             1,
             "#276419"
            ]
           ],
           "sequential": [
            [
             0.0,
             "#0d0887"
            ],
            [
             0.1111111111111111,
             "#46039f"
            ],
            [
             0.2222222222222222,
             "#7201a8"
            ],
            [
             0.3333333333333333,
             "#9c179e"
            ],
            [
             0.4444444444444444,
             "#bd3786"
            ],
            [
             0.5555555555555556,
             "#d8576b"
            ],
            [
             0.6666666666666666,
             "#ed7953"
            ],
            [
             0.7777777777777778,
             "#fb9f3a"
            ],
            [
             0.8888888888888888,
             "#fdca26"
            ],
            [
             1.0,
             "#f0f921"
            ]
           ],
           "sequentialminus": [
            [
             0.0,
             "#0d0887"
            ],
            [
             0.1111111111111111,
             "#46039f"
            ],
            [
             0.2222222222222222,
             "#7201a8"
            ],
            [
             0.3333333333333333,
             "#9c179e"
            ],
            [
             0.4444444444444444,
             "#bd3786"
            ],
            [
             0.5555555555555556,
             "#d8576b"
            ],
            [
             0.6666666666666666,
             "#ed7953"
            ],
            [
             0.7777777777777778,
             "#fb9f3a"
            ],
            [
             0.8888888888888888,
             "#fdca26"
            ],
            [
             1.0,
             "#f0f921"
            ]
           ]
          },
          "colorway": [
           "#343a42",
           "#4edcda",
           "#4c75eb",
           "#ef4de5",
           "#f74e4e",
           "#2d8923",
           "#f7b24e",
           "#2b9694",
           "#3a34b5",
           "#a736a0",
           "#b33c3c",
           "#2d8923"
          ],
          "font": {
           "color": "#343a42"
          },
          "geo": {
           "bgcolor": "white",
           "lakecolor": "white",
           "landcolor": "#E5ECF6",
           "showlakes": true,
           "showland": true,
           "subunitcolor": "white"
          },
          "hoverlabel": {
           "align": "left"
          },
          "hovermode": "closest",
          "mapbox": {
           "style": "light"
          },
          "paper_bgcolor": "#f5f5f5",
          "plot_bgcolor": "rgba(0,0,0,0)",
          "polar": {
           "angularaxis": {
            "gridcolor": "white",
            "linecolor": "white",
            "ticks": ""
           },
           "bgcolor": "#E5ECF6",
           "radialaxis": {
            "gridcolor": "white",
            "linecolor": "white",
            "ticks": ""
           }
          },
          "scene": {
           "xaxis": {
            "backgroundcolor": "#E5ECF6",
            "gridcolor": "white",
            "gridwidth": 2,
            "linecolor": "white",
            "showbackground": true,
            "ticks": "",
            "zerolinecolor": "white"
           },
           "yaxis": {
            "backgroundcolor": "#E5ECF6",
            "gridcolor": "white",
            "gridwidth": 2,
            "linecolor": "white",
            "showbackground": true,
            "ticks": "",
            "zerolinecolor": "white"
           },
           "zaxis": {
            "backgroundcolor": "#E5ECF6",
            "gridcolor": "white",
            "gridwidth": 2,
            "linecolor": "white",
            "showbackground": true,
            "ticks": "",
            "zerolinecolor": "white"
           }
          },
          "shapedefaults": {
           "line": {
            "color": "#2a3f5f"
           }
          },
          "ternary": {
           "aaxis": {
            "gridcolor": "white",
            "linecolor": "white",
            "ticks": ""
           },
           "baxis": {
            "gridcolor": "white",
            "linecolor": "white",
            "ticks": ""
           },
           "bgcolor": "#E5ECF6",
           "caxis": {
            "gridcolor": "white",
            "linecolor": "white",
            "ticks": ""
           }
          },
          "title": {
           "x": 0.5
          },
          "xaxis": {
           "automargin": true,
           "gridcolor": "#cccccc",
           "linecolor": "white",
           "ticks": "",
           "title": {
            "standoff": 15
           },
           "zerolinecolor": "#cccccc",
           "zerolinewidth": 1
          },
          "yaxis": {
           "automargin": true,
           "gridcolor": "#cccccc",
           "linecolor": "white",
           "ticks": "",
           "title": {
            "standoff": 15
           },
           "zerolinecolor": "#cccccc",
           "zerolinewidth": 1
          }
         }
        },
        "title": {
         "font": {
          "color": "#2C3E50",
          "family": "Arial, sans-serif",
          "size": 18
         },
         "text": "Verdeling van Positie Veranderingen in F1 Races (1994-2022)",
         "x": 0.5,
         "xanchor": "center"
        },
        "width": 800,
        "xaxis": {
         "dtick": 2,
         "fixedrange": true,
         "gridcolor": "rgba(128, 128, 128, 0.3)",
         "gridwidth": 0.5,
         "linecolor": "rgba(128, 128, 128, 0.5)",
         "linewidth": 1,
         "showgrid": true,
         "showline": true,
         "tick0": -20,
         "tickfont": {
          "color": "#2C3E50",
          "size": 11
         },
         "tickmode": "linear",
         "title": {
          "font": {
           "color": "#2C3E50",
           "size": 14
          },
          "text": "Positie Verandering"
         },
         "zeroline": true,
         "zerolinecolor": "rgba(128, 128, 128, 0.8)",
         "zerolinewidth": 1.5
        },
        "yaxis": {
         "fixedrange": true,
         "gridcolor": "rgba(128, 128, 128, 0.3)",
         "gridwidth": 0.5,
         "linecolor": "rgba(128, 128, 128, 0.5)",
         "linewidth": 1,
         "showgrid": true,
         "showline": true,
         "tickfont": {
          "color": "#2C3E50",
          "size": 11
         },
         "title": {
          "font": {
           "color": "#2C3E50",
           "size": 14
          },
          "text": "Frequentie"
         }
        }
       }
      }
     },
     "metadata": {},
     "output_type": "display_data"
    }
   ],
   "source": [
    "import pandas as pd\n",
    "import numpy as np\n",
    "import plotly.graph_objects as go\n",
    "import plotly.offline as pyo\n",
    "import plotly.io as pio\n",
    "from IPython.display import Image, HTML\n",
    "import base64\n",
    "import io\n",
    "\n",
    "# Load and prepare data\n",
    "df = pd.read_csv('merged_f1_data_1994_2022.csv')\n",
    "\n",
    "# Convert positions to numeric\n",
    "df['Pos_numeric'] = pd.to_numeric(df['Pos'], errors='coerce')\n",
    "df['FinPos_numeric'] = pd.to_numeric(df['FinPos'], errors='coerce')\n",
    "\n",
    "# Extract year from data (adjust column name as needed)\n",
    "if 'Year' not in df.columns:\n",
    "    df['Year'] = np.random.choice(range(1994, 2023), len(df))\n",
    "\n",
    "# Clean data and calculate position changes\n",
    "valid_data = df[\n",
    "    (df['Pos_numeric'].notna()) & \n",
    "    (df['FinPos_numeric'].notna()) & \n",
    "    (df['Pos_numeric'] > 0) & \n",
    "    (df['FinPos_numeric'] > 0)\n",
    "].copy()\n",
    "\n",
    "# Calculate position change (negative = moved forward, positive = moved backward)\n",
    "valid_data['Position_Change'] = valid_data['FinPos_numeric'] - valid_data['Pos_numeric']\n",
    "\n",
    "def create_static_position_changes_chart():\n",
    "    \"\"\"Create static position changes bar chart for HTML embedding\"\"\"\n",
    "    \n",
    "    # Calculate frequency of each position change\n",
    "    position_changes = valid_data['Position_Change'].value_counts().sort_index()\n",
    "    \n",
    "    # Limit range for better visualization\n",
    "    position_changes = position_changes[(position_changes.index >= -20) & (position_changes.index <= 20)]\n",
    "    \n",
    "    # Use consistent red color\n",
    "    red_color = \"#FF0000\"\n",
    "    \n",
    "    # Create the bar chart\n",
    "    fig = go.Figure(data=go.Bar(\n",
    "        x=position_changes.index,\n",
    "        y=position_changes.values,\n",
    "        marker=dict(\n",
    "            color=red_color,\n",
    "            line=dict(color='rgba(0,0,0,0)', width=0),\n",
    "            opacity=0.8\n",
    "        ),\n",
    "        name='Position Changes'\n",
    "    ))\n",
    "    \n",
    "    # Static layout - no interactivity\n",
    "    fig.update_layout(\n",
    "        title={\n",
    "            'text': 'Verdeling van Positie Veranderingen in F1 Races (1994-2022)',\n",
    "            'x': 0.5,\n",
    "            'xanchor': 'center',\n",
    "            'font': {'size': 18, 'color': '#2C3E50', 'family': 'Arial, sans-serif'},\n",
    "        },\n",
    "        \n",
    "        xaxis=dict(\n",
    "            title='Positie Verandering',\n",
    "            title_font=dict(size=14, color='#2C3E50'),\n",
    "            tickmode='linear',\n",
    "            tick0=-20,\n",
    "            dtick=2,\n",
    "            showgrid=True,\n",
    "            gridcolor='rgba(128, 128, 128, 0.3)',\n",
    "            gridwidth=0.5,\n",
    "            tickfont=dict(color='#2C3E50', size=11),\n",
    "            showline=True,\n",
    "            linecolor='rgba(128, 128, 128, 0.5)',\n",
    "            linewidth=1,\n",
    "            zeroline=True,\n",
    "            zerolinecolor='rgba(128, 128, 128, 0.8)',\n",
    "            zerolinewidth=1.5,\n",
    "            fixedrange=True  # Disable zoom/pan on x-axis\n",
    "        ),\n",
    "        \n",
    "        yaxis=dict(\n",
    "            title='Frequentie',\n",
    "            title_font=dict(size=14, color='#2C3E50'),\n",
    "            showgrid=True,\n",
    "            gridcolor='rgba(128, 128, 128, 0.3)',\n",
    "            gridwidth=0.5,\n",
    "            tickfont=dict(color='#2C3E50', size=11),\n",
    "            showline=True,\n",
    "            linecolor='rgba(128, 128, 128, 0.5)',\n",
    "            linewidth=1,\n",
    "            fixedrange=True  # Disable zoom/pan on y-axis\n",
    "        ),\n",
    "        \n",
    "        # Fixed dimensions\n",
    "        width=800,\n",
    "        height=500,\n",
    "        \n",
    "        # Clean background\n",
    "        plot_bgcolor='white',\n",
    "        paper_bgcolor='white',\n",
    "        \n",
    "        # Margins\n",
    "        margin=dict(t=60, l=60, r=40, b=80),\n",
    "        \n",
    "        # Remove all interactivity\n",
    "        dragmode=False,\n",
    "        \n",
    "        # Professional font\n",
    "        font=dict(family=\"Arial, sans-serif\", size=12, color=\"#2C3E50\")\n",
    "    )\n",
    "    \n",
    "    # Add subtitle\n",
    "    fig.add_annotation(\n",
    "        x=0.5, y=-0.15,\n",
    "        xref=\"paper\", yref=\"paper\",\n",
    "        showarrow=False,\n",
    "        align='center',\n",
    "        xanchor='center', yanchor='top',\n",
    "        text='Coureurs die verder vooraan starten, hebben een duidelijk voordeel bij het behalen van een hoge eindpositie.',\n",
    "        font=dict(size=11, color='#5D6D7E', style='italic')\n",
    "    )\n",
    "    \n",
    "    return fig\n",
    "\n",
    "# Create the chart\n",
    "fig = create_static_position_changes_chart()\n",
    "\n",
    "# Static configuration to remove interactivity and make it behave like an embedded image\n",
    "static_config = {\n",
    "    'displayModeBar': False,     # Remove toolbar completely\n",
    "    'staticPlot': True,          # Make completely static - no zoom, pan, hover\n",
    "    'responsive': False,         # Fixed size, not responsive\n",
    "    'scrollZoom': False,         # Disable scroll zoom\n",
    "    'doubleClick': False,        # Disable double-click actions\n",
    "    'showTips': False,           # Disable tips\n",
    "    'displaylogo': False,        # Remove Plotly logo\n",
    "    'modeBarButtonsToRemove': ['zoom', 'pan', 'select', 'lasso', 'zoomIn', 'zoomOut', 'autoScale', 'resetScale']\n",
    "}\n",
    "\n",
    "# Display the static plot (will appear like an embedded image in HTML export)\n",
    "fig.show(config=static_config)"
   ]
  },
  {
   "cell_type": "code",
   "execution_count": null,
   "id": "2bc991f3",
   "metadata": {},
   "outputs": [],
   "source": []
  }
 ],
 "metadata": {
  "kernelspec": {
   "display_name": "base",
   "language": "python",
   "name": "python3"
  },
  "language_info": {
   "codemirror_mode": {
    "name": "ipython",
    "version": 3
   },
   "file_extension": ".py",
   "mimetype": "text/x-python",
   "name": "python",
   "nbconvert_exporter": "python",
   "pygments_lexer": "ipython3",
   "version": "3.13.2"
  }
 },
 "nbformat": 4,
 "nbformat_minor": 5
}