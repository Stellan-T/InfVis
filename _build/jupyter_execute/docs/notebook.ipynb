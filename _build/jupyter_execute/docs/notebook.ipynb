{
 "cells": [
  {
   "cell_type": "markdown",
   "metadata": {},
   "source": [
    "# Perspective 1 Heatmap Visualizations"
   ]
  },
  {
   "cell_type": "code",
   "execution_count": 1,
   "metadata": {},
   "outputs": [
    {
     "data": {
      "application/vnd.jupyter.widget-view+json": {
       "model_id": "0a89164cc5104ec0af4508b164366343",
       "version_major": 2,
       "version_minor": 0
      },
      "text/plain": [
       "VBox(children=(HTML(value='<h3>🏎️ F1 Starting vs Finishing Position Analysis</h3>'), Dropdown(description='Sel…"
      ]
     },
     "metadata": {},
     "output_type": "display_data"
    },
    {
     "name": "stderr",
     "output_type": "stream",
     "text": [
      "/tmp/ipykernel_24315/2690157156.py:250: SettingWithCopyWarning:\n",
      "\n",
      "\n",
      "A value is trying to be set on a copy of a slice from a DataFrame.\n",
      "Try using .loc[row_indexer,col_indexer] = value instead\n",
      "\n",
      "See the caveats in the documentation: https://pandas.pydata.org/pandas-docs/stable/user_guide/indexing.html#returning-a-view-versus-a-copy\n",
      "\n"
     ]
    }
   ],
   "source": [
    "# Cell 1: Install and Import Required Packages\n",
    "import pandas as pd\n",
    "import numpy as np\n",
    "import plotly.graph_objects as go\n",
    "import plotly.express as px\n",
    "from plotly.subplots import make_subplots\n",
    "import ipywidgets as widgets\n",
    "from IPython.display import display, clear_output\n",
    "import seaborn as sns\n",
    "import matplotlib.pyplot as plt\n",
    "\n",
    "# Cell 2: Load and Prepare Data\n",
    "def load_f1_data():\n",
    "    \"\"\"Load and prepare the F1 data\"\"\"\n",
    "    try:\n",
    "        df = pd.read_csv('merged_f1_data_1994_2022.csv')\n",
    "    except FileNotFoundError:\n",
    "        return None\n",
    "    \n",
    "    # Handle non-numeric finishing positions (DNF, DSQ, etc.)\n",
    "    df['FinPos'] = df['FinPos'].astype(str)\n",
    "    return df\n",
    "\n",
    "# Load the data\n",
    "df = load_f1_data()\n",
    "\n",
    "# Cell 3: Data Preparation Functions\n",
    "def create_heatmap_data(df, selected_year=None):\n",
    "    \"\"\"Create heatmap data for starting vs finishing positions\"\"\"\n",
    "    \n",
    "    if selected_year and selected_year != 'Total':\n",
    "        df_filtered = df[df['Year'] == selected_year].copy()\n",
    "        title_suffix = f\" - {selected_year}\"\n",
    "    else:\n",
    "        df_filtered = df.copy()\n",
    "        title_suffix = \" - All Years (1994-2022)\"\n",
    "    \n",
    "    # Group all non-finishers under \"DNF\" category\n",
    "    df_filtered = df_filtered.copy()\n",
    "    non_finish_codes = ['NC', 'DNF', 'DSQ', 'DNS', 'EX', 'WD']\n",
    "    \n",
    "    # Use .loc to avoid the warning\n",
    "    df_filtered.loc[:, 'FinPos_Display'] = df_filtered['FinPos'].copy()\n",
    "    \n",
    "    # Replace all non-finish codes with 'DNF'\n",
    "    for code in non_finish_codes:\n",
    "        df_filtered.loc[:, 'FinPos_Display'] = df_filtered['FinPos_Display'].replace(code, 'DNF')\n",
    "    \n",
    "    # Get the range of starting positions (limit to reasonable range)\n",
    "    max_start_pos = min(df_filtered['Pos'].max(), 26)  # F1 grid is max 26 cars\n",
    "    \n",
    "    # Create categories for finishing positions\n",
    "    numeric_positions = []\n",
    "    non_numeric_positions = []\n",
    "    \n",
    "    for pos in df_filtered['FinPos_Display'].unique():\n",
    "        try:\n",
    "            num_pos = int(float(pos))\n",
    "            if 1 <= num_pos <= 30:  # Reasonable range for F1\n",
    "                numeric_positions.append(num_pos)\n",
    "        except (ValueError, TypeError):\n",
    "            if pos != 'nan':  # Skip NaN values\n",
    "                non_numeric_positions.append(pos)\n",
    "    \n",
    "    # Sort numeric positions\n",
    "    numeric_positions = sorted(set(numeric_positions))\n",
    "    \n",
    "    # Create the full list of finish position categories (DNF at the end)\n",
    "    finish_categories = numeric_positions + sorted(set(non_numeric_positions))\n",
    "    start_categories = list(range(1, max_start_pos + 1))\n",
    "    \n",
    "    # Create the heatmap matrix\n",
    "    heatmap_data = np.zeros((len(finish_categories), len(start_categories)))\n",
    "    \n",
    "    # Fill the heatmap matrix\n",
    "    for _, row in df_filtered.iterrows():\n",
    "        start_pos = row['Pos']\n",
    "        finish_pos = row['FinPos_Display']  # Use the modified display position\n",
    "        \n",
    "        if start_pos in start_categories:\n",
    "            start_idx = start_categories.index(start_pos)\n",
    "            \n",
    "            # Handle finish position\n",
    "            try:\n",
    "                finish_pos_int = int(float(finish_pos))\n",
    "                if finish_pos_int in finish_categories:\n",
    "                    finish_idx = finish_categories.index(finish_pos_int)\n",
    "                    heatmap_data[finish_idx, start_idx] += 1\n",
    "            except (ValueError, TypeError):\n",
    "                if finish_pos in finish_categories:\n",
    "                    finish_idx = finish_categories.index(finish_pos)\n",
    "                    heatmap_data[finish_idx, start_idx] += 1\n",
    "    \n",
    "    return heatmap_data, start_categories, finish_categories, title_suffix, len(df_filtered)\n",
    "\n",
    "# Cell 4: Plotly Interactive Heatmap Function\n",
    "def create_plotly_heatmap(df, selected_year=None):\n",
    "    \"\"\"Create an interactive heatmap using Plotly\"\"\"\n",
    "    \n",
    "    heatmap_data, start_categories, finish_categories, title_suffix, total_records = create_heatmap_data(df, selected_year)\n",
    "    \n",
    "    # Create hover text with percentages\n",
    "    hover_text = []\n",
    "    for i in range(len(finish_categories)):\n",
    "        hover_row = []\n",
    "        for j in range(len(start_categories)):\n",
    "            count = int(heatmap_data[i, j])\n",
    "            percentage = (count / total_records * 100) if total_records > 0 else 0\n",
    "            hover_row.append(f'Starting: P{start_categories[j]}<br>Finishing: {finish_categories[i]}<br>Count: {count}<br>Percentage: {percentage:.1f}%')\n",
    "        hover_text.append(hover_row)\n",
    "    \n",
    "    # Create the heatmap with improved colorscale\n",
    "    fig = go.Figure(data=go.Heatmap(\n",
    "        z=heatmap_data,\n",
    "        x=[f\"P{pos}\" for pos in start_categories],\n",
    "        y=[str(pos) for pos in finish_categories],\n",
    "        colorscale='RdYlBu_r',  # Red-Yellow-Blue reversed (red for high values)\n",
    "        # Alternative colorscales you can try:\n",
    "        # colorscale='Hot',\n",
    "        # colorscale='Plasma',\n",
    "        # colorscale='Inferno',\n",
    "        # colorscale='Turbo',\n",
    "        # colorscale='Spectral_r',\n",
    "        hoverongaps=False,\n",
    "        hovertemplate='%{customdata}<extra></extra>',\n",
    "        customdata=hover_text,\n",
    "        colorbar=dict(title=\"Number of Occurrences\")\n",
    "    ))\n",
    "    \n",
    "    fig.update_layout(\n",
    "        title={\n",
    "            'text': f'F1 Starting vs Finishing Position Heatmap{title_suffix}<br><sub>Total Records: {total_records:,}</sub>',\n",
    "            'x': 0.5,\n",
    "            'xanchor': 'center',\n",
    "            'font': {'size': 16}\n",
    "        },\n",
    "        xaxis_title='Starting Position',\n",
    "        yaxis_title='Finishing Position',\n",
    "        xaxis=dict(side='bottom'),\n",
    "        yaxis=dict(autorange='reversed'),  # Reverse y-axis so P1 is at top\n",
    "        width=1000,\n",
    "        height=700,\n",
    "        font=dict(size=12)\n",
    "    )\n",
    "    \n",
    "    return fig\n",
    "\n",
    "# Cell 5: Interactive Widget Setup\n",
    "def create_interactive_heatmap_widget(df):\n",
    "    \"\"\"Create an interactive widget with dropdown for year selection\"\"\"\n",
    "    \n",
    "    if df is None:\n",
    "        return\n",
    "    \n",
    "    # Get available years and add 'Total' option\n",
    "    years = sorted(df['Year'].unique())\n",
    "    year_options = [('All Years (Total)', 'Total')] + [(str(year), year) for year in years]\n",
    "    \n",
    "    # Create dropdown widget\n",
    "    year_dropdown = widgets.Dropdown(\n",
    "        options=year_options,\n",
    "        value='Total',\n",
    "        description='Select Year:',\n",
    "        style={'description_width': 'initial'},\n",
    "        layout=widgets.Layout(width='200px')\n",
    "    )\n",
    "    \n",
    "    # Create info display\n",
    "    info_output = widgets.Output()\n",
    "    \n",
    "    # Output widget for the plot\n",
    "    plot_output = widgets.Output()\n",
    "    \n",
    "    def update_heatmap(change):\n",
    "        \"\"\"Update heatmap when dropdown changes\"\"\"\n",
    "        selected_year = change['new']\n",
    "        year_value = None if selected_year == 'Total' else selected_year\n",
    "        \n",
    "        # Update info\n",
    "        with info_output:\n",
    "            clear_output(wait=True)\n",
    "            if selected_year == 'Total':\n",
    "                records_count = len(df)\n",
    "                print(f\"📊 Showing data for ALL YEARS: {records_count:,} total records\")\n",
    "            else:\n",
    "                year_data = df[df['Year'] == selected_year]\n",
    "                records_count = len(year_data)\n",
    "                races_count = year_data['Grand Prix'].nunique()\n",
    "                print(f\"📊 Showing data for {selected_year}: {records_count} records from {races_count} races\")\n",
    "        \n",
    "        # Update plot\n",
    "        with plot_output:\n",
    "            clear_output(wait=True)\n",
    "            try:\n",
    "                fig = create_plotly_heatmap(df, year_value)\n",
    "                fig.show()\n",
    "            except Exception as e:\n",
    "                pass\n",
    "    \n",
    "    # Bind the dropdown to the update function\n",
    "    year_dropdown.observe(update_heatmap, names='value')\n",
    "    \n",
    "    with plot_output:\n",
    "        try:\n",
    "            fig = create_plotly_heatmap(df, None)\n",
    "            fig.show()\n",
    "        except Exception as e:\n",
    "            pass\n",
    "    \n",
    "    # Create and display the widget layout\n",
    "    widget_box = widgets.VBox([\n",
    "        widgets.HTML(\"<h3>🏎️ F1 Starting vs Finishing Position Analysis</h3>\"),\n",
    "        year_dropdown,\n",
    "        info_output,\n",
    "        plot_output\n",
    "    ])\n",
    "    \n",
    "    display(widget_box)\n",
    "\n",
    "# Cell 6: Data Analysis Functions\n",
    "def analyze_position_data(df):\n",
    "    \"\"\"Analyze interesting patterns in the data\"\"\"\n",
    "    \n",
    "    if df is None:\n",
    "        return\n",
    "    \n",
    "    # Finishing position breakdown with all non-finishers grouped as DNF\n",
    "    finish_counts = df['FinPos'].value_counts()\n",
    "    \n",
    "    # Separate numeric and non-numeric finishes\n",
    "    numeric_finishes = 0\n",
    "    total_dnf_count = 0\n",
    "    \n",
    "    # Group all non-finishes together\n",
    "    non_finish_codes = ['DNF', 'DSQ', 'NC', 'DNS', 'EX', 'WD']\n",
    "    for pos, count in finish_counts.items():\n",
    "        try:\n",
    "            int(float(pos))\n",
    "            numeric_finishes += count\n",
    "        except (ValueError, TypeError):\n",
    "            if pos in non_finish_codes:\n",
    "                total_dnf_count += count\n",
    "    \n",
    "    # Position change analysis (classified finishers only)\n",
    "    df_numeric = df.copy()\n",
    "    df_numeric['FinPos_Numeric'] = pd.to_numeric(df_numeric['FinPos'], errors='coerce')\n",
    "    df_classified = df_numeric.dropna(subset=['FinPos_Numeric'])\n",
    "    \n",
    "    if len(df_classified) > 0:\n",
    "        df_classified['Position_Change'] = df_classified['Pos'] - df_classified['FinPos_Numeric']\n",
    "        \n",
    "        # Pole position analysis\n",
    "        pole_data = df_classified[df_classified['Pos'] == 1]\n",
    "        if len(pole_data) > 0:\n",
    "            pole_wins = len(pole_data[pole_data['FinPos_Numeric'] == 1])\n",
    "\n",
    "# Cell 7: Quick Statistics by Year\n",
    "def show_yearly_stats(df):\n",
    "    \"\"\"Show quick statistics by year\"\"\"\n",
    "    \n",
    "    if df is None:\n",
    "        return\n",
    "        \n",
    "    yearly_stats = df.groupby('Year').agg({\n",
    "        'DriverCode': 'count',\n",
    "        'Grand Prix': 'nunique'\n",
    "    }).rename(columns={'DriverCode': 'Total_Records', 'Grand Prix': 'Races'}).copy()\n",
    "    \n",
    "    # Calculate DNF rates by year\n",
    "    yearly_dnf = []\n",
    "    for year in sorted(df['Year'].unique()):\n",
    "        year_data = df[df['Year'] == year]\n",
    "        total = len(year_data)\n",
    "        dnf_count = len(year_data[~year_data['FinPos'].str.isnumeric().fillna(False)])\n",
    "        dnf_rate = (dnf_count / total * 100) if total > 0 else 0\n",
    "        yearly_dnf.append(dnf_rate)\n",
    "    \n",
    "    yearly_stats.loc[:, 'DNF_Rate'] = yearly_dnf\n",
    "\n",
    "# Create the interactive widget\n",
    "create_interactive_heatmap_widget(df)\n",
    "analyze_position_data(df)\n",
    "show_yearly_stats(df)"
   ]
  }
 ],
 "metadata": {
  "kernelspec": {
   "display_name": "base",
   "language": "python",
   "name": "python3"
  },
  "language_info": {
   "codemirror_mode": {
    "name": "ipython",
    "version": 3
   },
   "file_extension": ".py",
   "mimetype": "text/x-python",
   "name": "python",
   "nbconvert_exporter": "python",
   "pygments_lexer": "ipython3",
   "version": "3.13.2"
  },
  "widgets": {
   "application/vnd.jupyter.widget-state+json": {
    "state": {
     "0a89164cc5104ec0af4508b164366343": {
      "model_module": "@jupyter-widgets/controls",
      "model_module_version": "2.0.0",
      "model_name": "VBoxModel",
      "state": {
       "_dom_classes": [],
       "_model_module": "@jupyter-widgets/controls",
       "_model_module_version": "2.0.0",
       "_model_name": "VBoxModel",
       "_view_count": null,
       "_view_module": "@jupyter-widgets/controls",
       "_view_module_version": "2.0.0",
       "_view_name": "VBoxView",
       "box_style": "",
       "children": [
        "IPY_MODEL_318b9c946f304f3ea03eadb9462df960",
        "IPY_MODEL_8f600a29528a45b8b48d9744cd08feac",
        "IPY_MODEL_99ed518be86540dd92cf5543aac3242e",
        "IPY_MODEL_ddd075e53c304c2493aa2dd0b67aba3d"
       ],
       "layout": "IPY_MODEL_e712ba49bec04f10be2128fa162abb5f",
       "tabbable": null,
       "tooltip": null
      }
     },
     "260434c4caa449c4990d2dfea77a2846": {
      "model_module": "@jupyter-widgets/base",
      "model_module_version": "2.0.0",
      "model_name": "LayoutModel",
      "state": {
       "_model_module": "@jupyter-widgets/base",
       "_model_module_version": "2.0.0",
       "_model_name": "LayoutModel",
       "_view_count": null,
       "_view_module": "@jupyter-widgets/base",
       "_view_module_version": "2.0.0",
       "_view_name": "LayoutView",
       "align_content": null,
       "align_items": null,
       "align_self": null,
       "border_bottom": null,
       "border_left": null,
       "border_right": null,
       "border_top": null,
       "bottom": null,
       "display": null,
       "flex": null,
       "flex_flow": null,
       "grid_area": null,
       "grid_auto_columns": null,
       "grid_auto_flow": null,
       "grid_auto_rows": null,
       "grid_column": null,
       "grid_gap": null,
       "grid_row": null,
       "grid_template_areas": null,
       "grid_template_columns": null,
       "grid_template_rows": null,
       "height": null,
       "justify_content": null,
       "justify_items": null,
       "left": null,
       "margin": null,
       "max_height": null,
       "max_width": null,
       "min_height": null,
       "min_width": null,
       "object_fit": null,
       "object_position": null,
       "order": null,
       "overflow": null,
       "padding": null,
       "right": null,
       "top": null,
       "visibility": null,
       "width": "200px"
      }
     },
     "318b9c946f304f3ea03eadb9462df960": {
      "model_module": "@jupyter-widgets/controls",
      "model_module_version": "2.0.0",
      "model_name": "HTMLModel",
      "state": {
       "_dom_classes": [],
       "_model_module": "@jupyter-widgets/controls",
       "_model_module_version": "2.0.0",
       "_model_name": "HTMLModel",
       "_view_count": null,
       "_view_module": "@jupyter-widgets/controls",
       "_view_module_version": "2.0.0",
       "_view_name": "HTMLView",
       "description": "",
       "description_allow_html": false,
       "layout": "IPY_MODEL_7b57e3907c704af392688d289be5542f",
       "placeholder": "​",
       "style": "IPY_MODEL_7be1bfeaeccf43e297db075a6cbf2a53",
       "tabbable": null,
       "tooltip": null,
       "value": "<h3>🏎️ F1 Starting vs Finishing Position Analysis</h3>"
      }
     },
     "56aa7c6d8bdf4f4b8bfa01d55f0a3c42": {
      "model_module": "@jupyter-widgets/controls",
      "model_module_version": "2.0.0",
      "model_name": "DescriptionStyleModel",
      "state": {
       "_model_module": "@jupyter-widgets/controls",
       "_model_module_version": "2.0.0",
       "_model_name": "DescriptionStyleModel",
       "_view_count": null,
       "_view_module": "@jupyter-widgets/base",
       "_view_module_version": "2.0.0",
       "_view_name": "StyleView",
       "description_width": "initial"
      }
     },
     "5d9e49c1b3f4450295f6466589ba450a": {
      "model_module": "@jupyter-widgets/base",
      "model_module_version": "2.0.0",
      "model_name": "LayoutModel",
      "state": {
       "_model_module": "@jupyter-widgets/base",
       "_model_module_version": "2.0.0",
       "_model_name": "LayoutModel",
       "_view_count": null,
       "_view_module": "@jupyter-widgets/base",
       "_view_module_version": "2.0.0",
       "_view_name": "LayoutView",
       "align_content": null,
       "align_items": null,
       "align_self": null,
       "border_bottom": null,
       "border_left": null,
       "border_right": null,
       "border_top": null,
       "bottom": null,
       "display": null,
       "flex": null,
       "flex_flow": null,
       "grid_area": null,
       "grid_auto_columns": null,
       "grid_auto_flow": null,
       "grid_auto_rows": null,
       "grid_column": null,
       "grid_gap": null,
       "grid_row": null,
       "grid_template_areas": null,
       "grid_template_columns": null,
       "grid_template_rows": null,
       "height": null,
       "justify_content": null,
       "justify_items": null,
       "left": null,
       "margin": null,
       "max_height": null,
       "max_width": null,
       "min_height": null,
       "min_width": null,
       "object_fit": null,
       "object_position": null,
       "order": null,
       "overflow": null,
       "padding": null,
       "right": null,
       "top": null,
       "visibility": null,
       "width": null
      }
     },
     "7b57e3907c704af392688d289be5542f": {
      "model_module": "@jupyter-widgets/base",
      "model_module_version": "2.0.0",
      "model_name": "LayoutModel",
      "state": {
       "_model_module": "@jupyter-widgets/base",
       "_model_module_version": "2.0.0",
       "_model_name": "LayoutModel",
       "_view_count": null,
       "_view_module": "@jupyter-widgets/base",
       "_view_module_version": "2.0.0",
       "_view_name": "LayoutView",
       "align_content": null,
       "align_items": null,
       "align_self": null,
       "border_bottom": null,
       "border_left": null,
       "border_right": null,
       "border_top": null,
       "bottom": null,
       "display": null,
       "flex": null,
       "flex_flow": null,
       "grid_area": null,
       "grid_auto_columns": null,
       "grid_auto_flow": null,
       "grid_auto_rows": null,
       "grid_column": null,
       "grid_gap": null,
       "grid_row": null,
       "grid_template_areas": null,
       "grid_template_columns": null,
       "grid_template_rows": null,
       "height": null,
       "justify_content": null,
       "justify_items": null,
       "left": null,
       "margin": null,
       "max_height": null,
       "max_width": null,
       "min_height": null,
       "min_width": null,
       "object_fit": null,
       "object_position": null,
       "order": null,
       "overflow": null,
       "padding": null,
       "right": null,
       "top": null,
       "visibility": null,
       "width": null
      }
     },
     "7be1bfeaeccf43e297db075a6cbf2a53": {
      "model_module": "@jupyter-widgets/controls",
      "model_module_version": "2.0.0",
      "model_name": "HTMLStyleModel",
      "state": {
       "_model_module": "@jupyter-widgets/controls",
       "_model_module_version": "2.0.0",
       "_model_name": "HTMLStyleModel",
       "_view_count": null,
       "_view_module": "@jupyter-widgets/base",
       "_view_module_version": "2.0.0",
       "_view_name": "StyleView",
       "background": null,
       "description_width": "",
       "font_size": null,
       "text_color": null
      }
     },
     "8f600a29528a45b8b48d9744cd08feac": {
      "model_module": "@jupyter-widgets/controls",
      "model_module_version": "2.0.0",
      "model_name": "DropdownModel",
      "state": {
       "_dom_classes": [],
       "_model_module": "@jupyter-widgets/controls",
       "_model_module_version": "2.0.0",
       "_model_name": "DropdownModel",
       "_options_labels": [
        "All Years (Total)",
        "1994",
        "1995",
        "1996",
        "1997",
        "1998",
        "1999",
        "2000",
        "2001",
        "2002",
        "2003",
        "2004",
        "2005",
        "2006",
        "2007",
        "2008",
        "2009",
        "2010",
        "2011",
        "2012",
        "2013",
        "2014",
        "2015",
        "2016",
        "2017",
        "2018",
        "2019",
        "2020",
        "2021",
        "2022"
       ],
       "_view_count": null,
       "_view_module": "@jupyter-widgets/controls",
       "_view_module_version": "2.0.0",
       "_view_name": "DropdownView",
       "description": "Select Year:",
       "description_allow_html": false,
       "disabled": false,
       "index": 0,
       "layout": "IPY_MODEL_260434c4caa449c4990d2dfea77a2846",
       "style": "IPY_MODEL_56aa7c6d8bdf4f4b8bfa01d55f0a3c42",
       "tabbable": null,
       "tooltip": null
      }
     },
     "99ed518be86540dd92cf5543aac3242e": {
      "model_module": "@jupyter-widgets/output",
      "model_module_version": "1.0.0",
      "model_name": "OutputModel",
      "state": {
       "_dom_classes": [],
       "_model_module": "@jupyter-widgets/output",
       "_model_module_version": "1.0.0",
       "_model_name": "OutputModel",
       "_view_count": null,
       "_view_module": "@jupyter-widgets/output",
       "_view_module_version": "1.0.0",
       "_view_name": "OutputView",
       "layout": "IPY_MODEL_bf8088f3e127461592371e6626215f51",
       "msg_id": "",
       "outputs": [],
       "tabbable": null,
       "tooltip": null
      }
     },
     "bf8088f3e127461592371e6626215f51": {
      "model_module": "@jupyter-widgets/base",
      "model_module_version": "2.0.0",
      "model_name": "LayoutModel",
      "state": {
       "_model_module": "@jupyter-widgets/base",
       "_model_module_version": "2.0.0",
       "_model_name": "LayoutModel",
       "_view_count": null,
       "_view_module": "@jupyter-widgets/base",
       "_view_module_version": "2.0.0",
       "_view_name": "LayoutView",
       "align_content": null,
       "align_items": null,
       "align_self": null,
       "border_bottom": null,
       "border_left": null,
       "border_right": null,
       "border_top": null,
       "bottom": null,
       "display": null,
       "flex": null,
       "flex_flow": null,
       "grid_area": null,
       "grid_auto_columns": null,
       "grid_auto_flow": null,
       "grid_auto_rows": null,
       "grid_column": null,
       "grid_gap": null,
       "grid_row": null,
       "grid_template_areas": null,
       "grid_template_columns": null,
       "grid_template_rows": null,
       "height": null,
       "justify_content": null,
       "justify_items": null,
       "left": null,
       "margin": null,
       "max_height": null,
       "max_width": null,
       "min_height": null,
       "min_width": null,
       "object_fit": null,
       "object_position": null,
       "order": null,
       "overflow": null,
       "padding": null,
       "right": null,
       "top": null,
       "visibility": null,
       "width": null
      }
     },
     "ddd075e53c304c2493aa2dd0b67aba3d": {
      "model_module": "@jupyter-widgets/output",
      "model_module_version": "1.0.0",
      "model_name": "OutputModel",
      "state": {
       "_dom_classes": [],
       "_model_module": "@jupyter-widgets/output",
       "_model_module_version": "1.0.0",
       "_model_name": "OutputModel",
       "_view_count": null,
       "_view_module": "@jupyter-widgets/output",
       "_view_module_version": "1.0.0",
       "_view_name": "OutputView",
       "layout": "IPY_MODEL_5d9e49c1b3f4450295f6466589ba450a",
       "msg_id": "",
       "outputs": [
        {
         "data": {
          "application/vnd.plotly.v1+json": {
           "config": {
            "plotlyServerURL": "https://plot.ly"
           },
           "data": [
            {
             "colorbar": {
              "title": {
               "text": "Number of Occurrences"
              }
             },
             "colorscale": [
              [
               0.0,
               "rgb(49,54,149)"
              ],
              [
               0.1,
               "rgb(69,117,180)"
              ],
              [
               0.2,
               "rgb(116,173,209)"
              ],
              [
               0.3,
               "rgb(171,217,233)"
              ],
              [
               0.4,
               "rgb(224,243,248)"
              ],
              [
               0.5,
               "rgb(255,255,191)"
              ],
              [
               0.6,
               "rgb(254,224,144)"
              ],
              [
               0.7,
               "rgb(253,174,97)"
              ],
              [
               0.8,
               "rgb(244,109,67)"
              ],
              [
               0.9,
               "rgb(215,48,39)"
              ],
              [
               1.0,
               "rgb(165,0,38)"
              ]
             ],
             "customdata": [
              [
               "Starting: P1<br>Finishing: 1<br>Count: 252<br>Percentage: 2.2%",
               "Starting: P2<br>Finishing: 1<br>Count: 140<br>Percentage: 1.2%",
               "Starting: P3<br>Finishing: 1<br>Count: 64<br>Percentage: 0.6%",
               "Starting: P4<br>Finishing: 1<br>Count: 23<br>Percentage: 0.2%",
               "Starting: P5<br>Finishing: 1<br>Count: 14<br>Percentage: 0.1%",
               "Starting: P6<br>Finishing: 1<br>Count: 11<br>Percentage: 0.1%",
               "Starting: P7<br>Finishing: 1<br>Count: 7<br>Percentage: 0.1%",
               "Starting: P8<br>Finishing: 1<br>Count: 4<br>Percentage: 0.0%",
               "Starting: P9<br>Finishing: 1<br>Count: 0<br>Percentage: 0.0%",
               "Starting: P10<br>Finishing: 1<br>Count: 6<br>Percentage: 0.1%",
               "Starting: P11<br>Finishing: 1<br>Count: 2<br>Percentage: 0.0%",
               "Starting: P12<br>Finishing: 1<br>Count: 0<br>Percentage: 0.0%",
               "Starting: P13<br>Finishing: 1<br>Count: 0<br>Percentage: 0.0%",
               "Starting: P14<br>Finishing: 1<br>Count: 6<br>Percentage: 0.1%",
               "Starting: P15<br>Finishing: 1<br>Count: 1<br>Percentage: 0.0%",
               "Starting: P16<br>Finishing: 1<br>Count: 1<br>Percentage: 0.0%",
               "Starting: P17<br>Finishing: 1<br>Count: 1<br>Percentage: 0.0%",
               "Starting: P18<br>Finishing: 1<br>Count: 1<br>Percentage: 0.0%",
               "Starting: P19<br>Finishing: 1<br>Count: 0<br>Percentage: 0.0%",
               "Starting: P20<br>Finishing: 1<br>Count: 0<br>Percentage: 0.0%",
               "Starting: P21<br>Finishing: 1<br>Count: 0<br>Percentage: 0.0%",
               "Starting: P22<br>Finishing: 1<br>Count: 0<br>Percentage: 0.0%",
               "Starting: P23<br>Finishing: 1<br>Count: 0<br>Percentage: 0.0%",
               "Starting: P24<br>Finishing: 1<br>Count: 1<br>Percentage: 0.0%",
               "Starting: P25<br>Finishing: 1<br>Count: 0<br>Percentage: 0.0%",
               "Starting: P26<br>Finishing: 1<br>Count: 0<br>Percentage: 0.0%"
              ],
              [
               "Starting: P1<br>Finishing: 2<br>Count: 98<br>Percentage: 0.9%",
               "Starting: P2<br>Finishing: 2<br>Count: 122<br>Percentage: 1.1%",
               "Starting: P3<br>Finishing: 2<br>Count: 101<br>Percentage: 0.9%",
               "Starting: P4<br>Finishing: 2<br>Count: 76<br>Percentage: 0.7%",
               "Starting: P5<br>Finishing: 2<br>Count: 35<br>Percentage: 0.3%",
               "Starting: P6<br>Finishing: 2<br>Count: 27<br>Percentage: 0.2%",
               "Starting: P7<br>Finishing: 2<br>Count: 21<br>Percentage: 0.2%",
               "Starting: P8<br>Finishing: 2<br>Count: 12<br>Percentage: 0.1%",
               "Starting: P9<br>Finishing: 2<br>Count: 8<br>Percentage: 0.1%",
               "Starting: P10<br>Finishing: 2<br>Count: 9<br>Percentage: 0.1%",
               "Starting: P11<br>Finishing: 2<br>Count: 7<br>Percentage: 0.1%",
               "Starting: P12<br>Finishing: 2<br>Count: 6<br>Percentage: 0.1%",
               "Starting: P13<br>Finishing: 2<br>Count: 3<br>Percentage: 0.0%",
               "Starting: P14<br>Finishing: 2<br>Count: 3<br>Percentage: 0.0%",
               "Starting: P15<br>Finishing: 2<br>Count: 0<br>Percentage: 0.0%",
               "Starting: P16<br>Finishing: 2<br>Count: 0<br>Percentage: 0.0%",
               "Starting: P17<br>Finishing: 2<br>Count: 1<br>Percentage: 0.0%",
               "Starting: P18<br>Finishing: 2<br>Count: 2<br>Percentage: 0.0%",
               "Starting: P19<br>Finishing: 2<br>Count: 0<br>Percentage: 0.0%",
               "Starting: P20<br>Finishing: 2<br>Count: 3<br>Percentage: 0.0%",
               "Starting: P21<br>Finishing: 2<br>Count: 1<br>Percentage: 0.0%",
               "Starting: P22<br>Finishing: 2<br>Count: 0<br>Percentage: 0.0%",
               "Starting: P23<br>Finishing: 2<br>Count: 0<br>Percentage: 0.0%",
               "Starting: P24<br>Finishing: 2<br>Count: 0<br>Percentage: 0.0%",
               "Starting: P25<br>Finishing: 2<br>Count: 0<br>Percentage: 0.0%",
               "Starting: P26<br>Finishing: 2<br>Count: 0<br>Percentage: 0.0%"
              ],
              [
               "Starting: P1<br>Finishing: 3<br>Count: 45<br>Percentage: 0.4%",
               "Starting: P2<br>Finishing: 3<br>Count: 67<br>Percentage: 0.6%",
               "Starting: P3<br>Finishing: 3<br>Count: 113<br>Percentage: 1.0%",
               "Starting: P4<br>Finishing: 3<br>Count: 78<br>Percentage: 0.7%",
               "Starting: P5<br>Finishing: 3<br>Count: 59<br>Percentage: 0.5%",
               "Starting: P6<br>Finishing: 3<br>Count: 51<br>Percentage: 0.4%",
               "Starting: P7<br>Finishing: 3<br>Count: 29<br>Percentage: 0.3%",
               "Starting: P8<br>Finishing: 3<br>Count: 23<br>Percentage: 0.2%",
               "Starting: P9<br>Finishing: 3<br>Count: 12<br>Percentage: 0.1%",
               "Starting: P10<br>Finishing: 3<br>Count: 12<br>Percentage: 0.1%",
               "Starting: P11<br>Finishing: 3<br>Count: 5<br>Percentage: 0.0%",
               "Starting: P12<br>Finishing: 3<br>Count: 5<br>Percentage: 0.0%",
               "Starting: P13<br>Finishing: 3<br>Count: 8<br>Percentage: 0.1%",
               "Starting: P14<br>Finishing: 3<br>Count: 3<br>Percentage: 0.0%",
               "Starting: P15<br>Finishing: 3<br>Count: 7<br>Percentage: 0.1%",
               "Starting: P16<br>Finishing: 3<br>Count: 3<br>Percentage: 0.0%",
               "Starting: P17<br>Finishing: 3<br>Count: 3<br>Percentage: 0.0%",
               "Starting: P18<br>Finishing: 3<br>Count: 2<br>Percentage: 0.0%",
               "Starting: P19<br>Finishing: 3<br>Count: 2<br>Percentage: 0.0%",
               "Starting: P20<br>Finishing: 3<br>Count: 4<br>Percentage: 0.0%",
               "Starting: P21<br>Finishing: 3<br>Count: 2<br>Percentage: 0.0%",
               "Starting: P22<br>Finishing: 3<br>Count: 1<br>Percentage: 0.0%",
               "Starting: P23<br>Finishing: 3<br>Count: 0<br>Percentage: 0.0%",
               "Starting: P24<br>Finishing: 3<br>Count: 1<br>Percentage: 0.0%",
               "Starting: P25<br>Finishing: 3<br>Count: 1<br>Percentage: 0.0%",
               "Starting: P26<br>Finishing: 3<br>Count: 0<br>Percentage: 0.0%"
              ],
              [
               "Starting: P1<br>Finishing: 4<br>Count: 18<br>Percentage: 0.2%",
               "Starting: P2<br>Finishing: 4<br>Count: 36<br>Percentage: 0.3%",
               "Starting: P3<br>Finishing: 4<br>Count: 52<br>Percentage: 0.5%",
               "Starting: P4<br>Finishing: 4<br>Count: 91<br>Percentage: 0.8%",
               "Starting: P5<br>Finishing: 4<br>Count: 81<br>Percentage: 0.7%",
               "Starting: P6<br>Finishing: 4<br>Count: 52<br>Percentage: 0.5%",
               "Starting: P7<br>Finishing: 4<br>Count: 33<br>Percentage: 0.3%",
               "Starting: P8<br>Finishing: 4<br>Count: 42<br>Percentage: 0.4%",
               "Starting: P9<br>Finishing: 4<br>Count: 35<br>Percentage: 0.3%",
               "Starting: P10<br>Finishing: 4<br>Count: 16<br>Percentage: 0.1%",
               "Starting: P11<br>Finishing: 4<br>Count: 27<br>Percentage: 0.2%",
               "Starting: P12<br>Finishing: 4<br>Count: 12<br>Percentage: 0.1%",
               "Starting: P13<br>Finishing: 4<br>Count: 3<br>Percentage: 0.0%",
               "Starting: P14<br>Finishing: 4<br>Count: 5<br>Percentage: 0.0%",
               "Starting: P15<br>Finishing: 4<br>Count: 7<br>Percentage: 0.1%",
               "Starting: P16<br>Finishing: 4<br>Count: 5<br>Percentage: 0.0%",
               "Starting: P17<br>Finishing: 4<br>Count: 5<br>Percentage: 0.0%",
               "Starting: P18<br>Finishing: 4<br>Count: 1<br>Percentage: 0.0%",
               "Starting: P19<br>Finishing: 4<br>Count: 3<br>Percentage: 0.0%",
               "Starting: P20<br>Finishing: 4<br>Count: 3<br>Percentage: 0.0%",
               "Starting: P21<br>Finishing: 4<br>Count: 0<br>Percentage: 0.0%",
               "Starting: P22<br>Finishing: 4<br>Count: 2<br>Percentage: 0.0%",
               "Starting: P23<br>Finishing: 4<br>Count: 0<br>Percentage: 0.0%",
               "Starting: P24<br>Finishing: 4<br>Count: 1<br>Percentage: 0.0%",
               "Starting: P25<br>Finishing: 4<br>Count: 0<br>Percentage: 0.0%",
               "Starting: P26<br>Finishing: 4<br>Count: 0<br>Percentage: 0.0%"
              ],
              [
               "Starting: P1<br>Finishing: 5<br>Count: 10<br>Percentage: 0.1%",
               "Starting: P2<br>Finishing: 5<br>Count: 25<br>Percentage: 0.2%",
               "Starting: P3<br>Finishing: 5<br>Count: 38<br>Percentage: 0.3%",
               "Starting: P4<br>Finishing: 5<br>Count: 49<br>Percentage: 0.4%",
               "Starting: P5<br>Finishing: 5<br>Count: 63<br>Percentage: 0.6%",
               "Starting: P6<br>Finishing: 5<br>Count: 64<br>Percentage: 0.6%",
               "Starting: P7<br>Finishing: 5<br>Count: 56<br>Percentage: 0.5%",
               "Starting: P8<br>Finishing: 5<br>Count: 43<br>Percentage: 0.4%",
               "Starting: P9<br>Finishing: 5<br>Count: 37<br>Percentage: 0.3%",
               "Starting: P10<br>Finishing: 5<br>Count: 36<br>Percentage: 0.3%",
               "Starting: P11<br>Finishing: 5<br>Count: 32<br>Percentage: 0.3%",
               "Starting: P12<br>Finishing: 5<br>Count: 16<br>Percentage: 0.1%",
               "Starting: P13<br>Finishing: 5<br>Count: 10<br>Percentage: 0.1%",
               "Starting: P14<br>Finishing: 5<br>Count: 12<br>Percentage: 0.1%",
               "Starting: P15<br>Finishing: 5<br>Count: 8<br>Percentage: 0.1%",
               "Starting: P16<br>Finishing: 5<br>Count: 10<br>Percentage: 0.1%",
               "Starting: P17<br>Finishing: 5<br>Count: 5<br>Percentage: 0.0%",
               "Starting: P18<br>Finishing: 5<br>Count: 6<br>Percentage: 0.1%",
               "Starting: P19<br>Finishing: 5<br>Count: 7<br>Percentage: 0.1%",
               "Starting: P20<br>Finishing: 5<br>Count: 2<br>Percentage: 0.0%",
               "Starting: P21<br>Finishing: 5<br>Count: 1<br>Percentage: 0.0%",
               "Starting: P22<br>Finishing: 5<br>Count: 2<br>Percentage: 0.0%",
               "Starting: P23<br>Finishing: 5<br>Count: 0<br>Percentage: 0.0%",
               "Starting: P24<br>Finishing: 5<br>Count: 1<br>Percentage: 0.0%",
               "Starting: P25<br>Finishing: 5<br>Count: 0<br>Percentage: 0.0%",
               "Starting: P26<br>Finishing: 5<br>Count: 0<br>Percentage: 0.0%"
              ],
              [
               "Starting: P1<br>Finishing: 6<br>Count: 5<br>Percentage: 0.0%",
               "Starting: P2<br>Finishing: 6<br>Count: 8<br>Percentage: 0.1%",
               "Starting: P3<br>Finishing: 6<br>Count: 24<br>Percentage: 0.2%",
               "Starting: P4<br>Finishing: 6<br>Count: 40<br>Percentage: 0.4%",
               "Starting: P5<br>Finishing: 6<br>Count: 46<br>Percentage: 0.4%",
               "Starting: P6<br>Finishing: 6<br>Count: 66<br>Percentage: 0.6%",
               "Starting: P7<br>Finishing: 6<br>Count: 62<br>Percentage: 0.5%",
               "Starting: P8<br>Finishing: 6<br>Count: 38<br>Percentage: 0.3%",
               "Starting: P9<br>Finishing: 6<br>Count: 49<br>Percentage: 0.4%",
               "Starting: P10<br>Finishing: 6<br>Count: 38<br>Percentage: 0.3%",
               "Starting: P11<br>Finishing: 6<br>Count: 29<br>Percentage: 0.3%",
               "Starting: P12<br>Finishing: 6<br>Count: 31<br>Percentage: 0.3%",
               "Starting: P13<br>Finishing: 6<br>Count: 25<br>Percentage: 0.2%",
               "Starting: P14<br>Finishing: 6<br>Count: 19<br>Percentage: 0.2%",
               "Starting: P15<br>Finishing: 6<br>Count: 11<br>Percentage: 0.1%",
               "Starting: P16<br>Finishing: 6<br>Count: 11<br>Percentage: 0.1%",
               "Starting: P17<br>Finishing: 6<br>Count: 7<br>Percentage: 0.1%",
               "Starting: P18<br>Finishing: 6<br>Count: 8<br>Percentage: 0.1%",
               "Starting: P19<br>Finishing: 6<br>Count: 4<br>Percentage: 0.0%",
               "Starting: P20<br>Finishing: 6<br>Count: 7<br>Percentage: 0.1%",
               "Starting: P21<br>Finishing: 6<br>Count: 1<br>Percentage: 0.0%",
               "Starting: P22<br>Finishing: 6<br>Count: 2<br>Percentage: 0.0%",
               "Starting: P23<br>Finishing: 6<br>Count: 1<br>Percentage: 0.0%",
               "Starting: P24<br>Finishing: 6<br>Count: 0<br>Percentage: 0.0%",
               "Starting: P25<br>Finishing: 6<br>Count: 0<br>Percentage: 0.0%",
               "Starting: P26<br>Finishing: 6<br>Count: 0<br>Percentage: 0.0%"
              ],
              [
               "Starting: P1<br>Finishing: 7<br>Count: 4<br>Percentage: 0.0%",
               "Starting: P2<br>Finishing: 7<br>Count: 16<br>Percentage: 0.1%",
               "Starting: P3<br>Finishing: 7<br>Count: 12<br>Percentage: 0.1%",
               "Starting: P4<br>Finishing: 7<br>Count: 28<br>Percentage: 0.2%",
               "Starting: P5<br>Finishing: 7<br>Count: 27<br>Percentage: 0.2%",
               "Starting: P6<br>Finishing: 7<br>Count: 38<br>Percentage: 0.3%",
               "Starting: P7<br>Finishing: 7<br>Count: 56<br>Percentage: 0.5%",
               "Starting: P8<br>Finishing: 7<br>Count: 49<br>Percentage: 0.4%",
               "Starting: P9<br>Finishing: 7<br>Count: 54<br>Percentage: 0.5%",
               "Starting: P10<br>Finishing: 7<br>Count: 39<br>Percentage: 0.3%",
               "Starting: P11<br>Finishing: 7<br>Count: 33<br>Percentage: 0.3%",
               "Starting: P12<br>Finishing: 7<br>Count: 42<br>Percentage: 0.4%",
               "Starting: P13<br>Finishing: 7<br>Count: 32<br>Percentage: 0.3%",
               "Starting: P14<br>Finishing: 7<br>Count: 22<br>Percentage: 0.2%",
               "Starting: P15<br>Finishing: 7<br>Count: 17<br>Percentage: 0.1%",
               "Starting: P16<br>Finishing: 7<br>Count: 10<br>Percentage: 0.1%",
               "Starting: P17<br>Finishing: 7<br>Count: 19<br>Percentage: 0.2%",
               "Starting: P18<br>Finishing: 7<br>Count: 10<br>Percentage: 0.1%",
               "Starting: P19<br>Finishing: 7<br>Count: 9<br>Percentage: 0.1%",
               "Starting: P20<br>Finishing: 7<br>Count: 3<br>Percentage: 0.0%",
               "Starting: P21<br>Finishing: 7<br>Count: 5<br>Percentage: 0.0%",
               "Starting: P22<br>Finishing: 7<br>Count: 4<br>Percentage: 0.0%",
               "Starting: P23<br>Finishing: 7<br>Count: 2<br>Percentage: 0.0%",
               "Starting: P24<br>Finishing: 7<br>Count: 1<br>Percentage: 0.0%",
               "Starting: P25<br>Finishing: 7<br>Count: 0<br>Percentage: 0.0%",
               "Starting: P26<br>Finishing: 7<br>Count: 0<br>Percentage: 0.0%"
              ],
              [
               "Starting: P1<br>Finishing: 8<br>Count: 5<br>Percentage: 0.0%",
               "Starting: P2<br>Finishing: 8<br>Count: 10<br>Percentage: 0.1%",
               "Starting: P3<br>Finishing: 8<br>Count: 12<br>Percentage: 0.1%",
               "Starting: P4<br>Finishing: 8<br>Count: 12<br>Percentage: 0.1%",
               "Starting: P5<br>Finishing: 8<br>Count: 17<br>Percentage: 0.1%",
               "Starting: P6<br>Finishing: 8<br>Count: 22<br>Percentage: 0.2%",
               "Starting: P7<br>Finishing: 8<br>Count: 42<br>Percentage: 0.4%",
               "Starting: P8<br>Finishing: 8<br>Count: 40<br>Percentage: 0.4%",
               "Starting: P9<br>Finishing: 8<br>Count: 53<br>Percentage: 0.5%",
               "Starting: P10<br>Finishing: 8<br>Count: 48<br>Percentage: 0.4%",
               "Starting: P11<br>Finishing: 8<br>Count: 42<br>Percentage: 0.4%",
               "Starting: P12<br>Finishing: 8<br>Count: 40<br>Percentage: 0.4%",
               "Starting: P13<br>Finishing: 8<br>Count: 35<br>Percentage: 0.3%",
               "Starting: P14<br>Finishing: 8<br>Count: 23<br>Percentage: 0.2%",
               "Starting: P15<br>Finishing: 8<br>Count: 26<br>Percentage: 0.2%",
               "Starting: P16<br>Finishing: 8<br>Count: 18<br>Percentage: 0.2%",
               "Starting: P17<br>Finishing: 8<br>Count: 15<br>Percentage: 0.1%",
               "Starting: P18<br>Finishing: 8<br>Count: 17<br>Percentage: 0.1%",
               "Starting: P19<br>Finishing: 8<br>Count: 18<br>Percentage: 0.2%",
               "Starting: P20<br>Finishing: 8<br>Count: 13<br>Percentage: 0.1%",
               "Starting: P21<br>Finishing: 8<br>Count: 6<br>Percentage: 0.1%",
               "Starting: P22<br>Finishing: 8<br>Count: 8<br>Percentage: 0.1%",
               "Starting: P23<br>Finishing: 8<br>Count: 4<br>Percentage: 0.0%",
               "Starting: P24<br>Finishing: 8<br>Count: 5<br>Percentage: 0.0%",
               "Starting: P25<br>Finishing: 8<br>Count: 0<br>Percentage: 0.0%",
               "Starting: P26<br>Finishing: 8<br>Count: 0<br>Percentage: 0.0%"
              ],
              [
               "Starting: P1<br>Finishing: 9<br>Count: 5<br>Percentage: 0.0%",
               "Starting: P2<br>Finishing: 9<br>Count: 9<br>Percentage: 0.1%",
               "Starting: P3<br>Finishing: 9<br>Count: 7<br>Percentage: 0.1%",
               "Starting: P4<br>Finishing: 9<br>Count: 10<br>Percentage: 0.1%",
               "Starting: P5<br>Finishing: 9<br>Count: 16<br>Percentage: 0.1%",
               "Starting: P6<br>Finishing: 9<br>Count: 23<br>Percentage: 0.2%",
               "Starting: P7<br>Finishing: 9<br>Count: 23<br>Percentage: 0.2%",
               "Starting: P8<br>Finishing: 9<br>Count: 41<br>Percentage: 0.4%",
               "Starting: P9<br>Finishing: 9<br>Count: 40<br>Percentage: 0.4%",
               "Starting: P10<br>Finishing: 9<br>Count: 58<br>Percentage: 0.5%",
               "Starting: P11<br>Finishing: 9<br>Count: 45<br>Percentage: 0.4%",
               "Starting: P12<br>Finishing: 9<br>Count: 38<br>Percentage: 0.3%",
               "Starting: P13<br>Finishing: 9<br>Count: 39<br>Percentage: 0.3%",
               "Starting: P14<br>Finishing: 9<br>Count: 26<br>Percentage: 0.2%",
               "Starting: P15<br>Finishing: 9<br>Count: 22<br>Percentage: 0.2%",
               "Starting: P16<br>Finishing: 9<br>Count: 28<br>Percentage: 0.2%",
               "Starting: P17<br>Finishing: 9<br>Count: 22<br>Percentage: 0.2%",
               "Starting: P18<br>Finishing: 9<br>Count: 18<br>Percentage: 0.2%",
               "Starting: P19<br>Finishing: 9<br>Count: 16<br>Percentage: 0.1%",
               "Starting: P20<br>Finishing: 9<br>Count: 15<br>Percentage: 0.1%",
               "Starting: P21<br>Finishing: 9<br>Count: 11<br>Percentage: 0.1%",
               "Starting: P22<br>Finishing: 9<br>Count: 6<br>Percentage: 0.1%",
               "Starting: P23<br>Finishing: 9<br>Count: 4<br>Percentage: 0.0%",
               "Starting: P24<br>Finishing: 9<br>Count: 1<br>Percentage: 0.0%",
               "Starting: P25<br>Finishing: 9<br>Count: 1<br>Percentage: 0.0%",
               "Starting: P26<br>Finishing: 9<br>Count: 1<br>Percentage: 0.0%"
              ],
              [
               "Starting: P1<br>Finishing: 10<br>Count: 2<br>Percentage: 0.0%",
               "Starting: P2<br>Finishing: 10<br>Count: 1<br>Percentage: 0.0%",
               "Starting: P3<br>Finishing: 10<br>Count: 7<br>Percentage: 0.1%",
               "Starting: P4<br>Finishing: 10<br>Count: 7<br>Percentage: 0.1%",
               "Starting: P5<br>Finishing: 10<br>Count: 15<br>Percentage: 0.1%",
               "Starting: P6<br>Finishing: 10<br>Count: 15<br>Percentage: 0.1%",
               "Starting: P7<br>Finishing: 10<br>Count: 21<br>Percentage: 0.2%",
               "Starting: P8<br>Finishing: 10<br>Count: 24<br>Percentage: 0.2%",
               "Starting: P9<br>Finishing: 10<br>Count: 32<br>Percentage: 0.3%",
               "Starting: P10<br>Finishing: 10<br>Count: 40<br>Percentage: 0.4%",
               "Starting: P11<br>Finishing: 10<br>Count: 30<br>Percentage: 0.3%",
               "Starting: P12<br>Finishing: 10<br>Count: 36<br>Percentage: 0.3%",
               "Starting: P13<br>Finishing: 10<br>Count: 48<br>Percentage: 0.4%",
               "Starting: P14<br>Finishing: 10<br>Count: 38<br>Percentage: 0.3%",
               "Starting: P15<br>Finishing: 10<br>Count: 46<br>Percentage: 0.4%",
               "Starting: P16<br>Finishing: 10<br>Count: 32<br>Percentage: 0.3%",
               "Starting: P17<br>Finishing: 10<br>Count: 25<br>Percentage: 0.2%",
               "Starting: P18<br>Finishing: 10<br>Count: 31<br>Percentage: 0.3%",
               "Starting: P19<br>Finishing: 10<br>Count: 21<br>Percentage: 0.2%",
               "Starting: P20<br>Finishing: 10<br>Count: 21<br>Percentage: 0.2%",
               "Starting: P21<br>Finishing: 10<br>Count: 10<br>Percentage: 0.1%",
               "Starting: P22<br>Finishing: 10<br>Count: 6<br>Percentage: 0.1%",
               "Starting: P23<br>Finishing: 10<br>Count: 1<br>Percentage: 0.0%",
               "Starting: P24<br>Finishing: 10<br>Count: 3<br>Percentage: 0.0%",
               "Starting: P25<br>Finishing: 10<br>Count: 3<br>Percentage: 0.0%",
               "Starting: P26<br>Finishing: 10<br>Count: 0<br>Percentage: 0.0%"
              ],
              [
               "Starting: P1<br>Finishing: 11<br>Count: 0<br>Percentage: 0.0%",
               "Starting: P2<br>Finishing: 11<br>Count: 6<br>Percentage: 0.1%",
               "Starting: P3<br>Finishing: 11<br>Count: 4<br>Percentage: 0.0%",
               "Starting: P4<br>Finishing: 11<br>Count: 4<br>Percentage: 0.0%",
               "Starting: P5<br>Finishing: 11<br>Count: 9<br>Percentage: 0.1%",
               "Starting: P6<br>Finishing: 11<br>Count: 11<br>Percentage: 0.1%",
               "Starting: P7<br>Finishing: 11<br>Count: 13<br>Percentage: 0.1%",
               "Starting: P8<br>Finishing: 11<br>Count: 26<br>Percentage: 0.2%",
               "Starting: P9<br>Finishing: 11<br>Count: 23<br>Percentage: 0.2%",
               "Starting: P10<br>Finishing: 11<br>Count: 29<br>Percentage: 0.3%",
               "Starting: P11<br>Finishing: 11<br>Count: 47<br>Percentage: 0.4%",
               "Starting: P12<br>Finishing: 11<br>Count: 37<br>Percentage: 0.3%",
               "Starting: P13<br>Finishing: 11<br>Count: 46<br>Percentage: 0.4%",
               "Starting: P14<br>Finishing: 11<br>Count: 32<br>Percentage: 0.3%",
               "Starting: P15<br>Finishing: 11<br>Count: 38<br>Percentage: 0.3%",
               "Starting: P16<br>Finishing: 11<br>Count: 38<br>Percentage: 0.3%",
               "Starting: P17<br>Finishing: 11<br>Count: 34<br>Percentage: 0.3%",
               "Starting: P18<br>Finishing: 11<br>Count: 22<br>Percentage: 0.2%",
               "Starting: P19<br>Finishing: 11<br>Count: 30<br>Percentage: 0.3%",
               "Starting: P20<br>Finishing: 11<br>Count: 18<br>Percentage: 0.2%",
               "Starting: P21<br>Finishing: 11<br>Count: 8<br>Percentage: 0.1%",
               "Starting: P22<br>Finishing: 11<br>Count: 6<br>Percentage: 0.1%",
               "Starting: P23<br>Finishing: 11<br>Count: 4<br>Percentage: 0.0%",
               "Starting: P24<br>Finishing: 11<br>Count: 1<br>Percentage: 0.0%",
               "Starting: P25<br>Finishing: 11<br>Count: 2<br>Percentage: 0.0%",
               "Starting: P26<br>Finishing: 11<br>Count: 1<br>Percentage: 0.0%"
              ],
              [
               "Starting: P1<br>Finishing: 12<br>Count: 2<br>Percentage: 0.0%",
               "Starting: P2<br>Finishing: 12<br>Count: 2<br>Percentage: 0.0%",
               "Starting: P3<br>Finishing: 12<br>Count: 3<br>Percentage: 0.0%",
               "Starting: P4<br>Finishing: 12<br>Count: 3<br>Percentage: 0.0%",
               "Starting: P5<br>Finishing: 12<br>Count: 5<br>Percentage: 0.0%",
               "Starting: P6<br>Finishing: 12<br>Count: 6<br>Percentage: 0.1%",
               "Starting: P7<br>Finishing: 12<br>Count: 16<br>Percentage: 0.1%",
               "Starting: P8<br>Finishing: 12<br>Count: 18<br>Percentage: 0.2%",
               "Starting: P9<br>Finishing: 12<br>Count: 15<br>Percentage: 0.1%",
               "Starting: P10<br>Finishing: 12<br>Count: 18<br>Percentage: 0.2%",
               "Starting: P11<br>Finishing: 12<br>Count: 23<br>Percentage: 0.2%",
               "Starting: P12<br>Finishing: 12<br>Count: 32<br>Percentage: 0.3%",
               "Starting: P13<br>Finishing: 12<br>Count: 39<br>Percentage: 0.3%",
               "Starting: P14<br>Finishing: 12<br>Count: 46<br>Percentage: 0.4%",
               "Starting: P15<br>Finishing: 12<br>Count: 34<br>Percentage: 0.3%",
               "Starting: P16<br>Finishing: 12<br>Count: 42<br>Percentage: 0.4%",
               "Starting: P17<br>Finishing: 12<br>Count: 39<br>Percentage: 0.3%",
               "Starting: P18<br>Finishing: 12<br>Count: 46<br>Percentage: 0.4%",
               "Starting: P19<br>Finishing: 12<br>Count: 26<br>Percentage: 0.2%",
               "Starting: P20<br>Finishing: 12<br>Count: 23<br>Percentage: 0.2%",
               "Starting: P21<br>Finishing: 12<br>Count: 8<br>Percentage: 0.1%",
               "Starting: P22<br>Finishing: 12<br>Count: 12<br>Percentage: 0.1%",
               "Starting: P23<br>Finishing: 12<br>Count: 1<br>Percentage: 0.0%",
               "Starting: P24<br>Finishing: 12<br>Count: 2<br>Percentage: 0.0%",
               "Starting: P25<br>Finishing: 12<br>Count: 1<br>Percentage: 0.0%",
               "Starting: P26<br>Finishing: 12<br>Count: 1<br>Percentage: 0.0%"
              ],
              [
               "Starting: P1<br>Finishing: 13<br>Count: 2<br>Percentage: 0.0%",
               "Starting: P2<br>Finishing: 13<br>Count: 2<br>Percentage: 0.0%",
               "Starting: P3<br>Finishing: 13<br>Count: 5<br>Percentage: 0.0%",
               "Starting: P4<br>Finishing: 13<br>Count: 4<br>Percentage: 0.0%",
               "Starting: P5<br>Finishing: 13<br>Count: 0<br>Percentage: 0.0%",
               "Starting: P6<br>Finishing: 13<br>Count: 6<br>Percentage: 0.1%",
               "Starting: P7<br>Finishing: 13<br>Count: 11<br>Percentage: 0.1%",
               "Starting: P8<br>Finishing: 13<br>Count: 18<br>Percentage: 0.2%",
               "Starting: P9<br>Finishing: 13<br>Count: 17<br>Percentage: 0.1%",
               "Starting: P10<br>Finishing: 13<br>Count: 18<br>Percentage: 0.2%",
               "Starting: P11<br>Finishing: 13<br>Count: 21<br>Percentage: 0.2%",
               "Starting: P12<br>Finishing: 13<br>Count: 28<br>Percentage: 0.2%",
               "Starting: P13<br>Finishing: 13<br>Count: 25<br>Percentage: 0.2%",
               "Starting: P14<br>Finishing: 13<br>Count: 40<br>Percentage: 0.4%",
               "Starting: P15<br>Finishing: 13<br>Count: 48<br>Percentage: 0.4%",
               "Starting: P16<br>Finishing: 13<br>Count: 35<br>Percentage: 0.3%",
               "Starting: P17<br>Finishing: 13<br>Count: 40<br>Percentage: 0.4%",
               "Starting: P18<br>Finishing: 13<br>Count: 32<br>Percentage: 0.3%",
               "Starting: P19<br>Finishing: 13<br>Count: 29<br>Percentage: 0.3%",
               "Starting: P20<br>Finishing: 13<br>Count: 30<br>Percentage: 0.3%",
               "Starting: P21<br>Finishing: 13<br>Count: 9<br>Percentage: 0.1%",
               "Starting: P22<br>Finishing: 13<br>Count: 12<br>Percentage: 0.1%",
               "Starting: P23<br>Finishing: 13<br>Count: 1<br>Percentage: 0.0%",
               "Starting: P24<br>Finishing: 13<br>Count: 3<br>Percentage: 0.0%",
               "Starting: P25<br>Finishing: 13<br>Count: 1<br>Percentage: 0.0%",
               "Starting: P26<br>Finishing: 13<br>Count: 0<br>Percentage: 0.0%"
              ],
              [
               "Starting: P1<br>Finishing: 14<br>Count: 2<br>Percentage: 0.0%",
               "Starting: P2<br>Finishing: 14<br>Count: 1<br>Percentage: 0.0%",
               "Starting: P3<br>Finishing: 14<br>Count: 6<br>Percentage: 0.1%",
               "Starting: P4<br>Finishing: 14<br>Count: 3<br>Percentage: 0.0%",
               "Starting: P5<br>Finishing: 14<br>Count: 9<br>Percentage: 0.1%",
               "Starting: P6<br>Finishing: 14<br>Count: 5<br>Percentage: 0.0%",
               "Starting: P7<br>Finishing: 14<br>Count: 4<br>Percentage: 0.0%",
               "Starting: P8<br>Finishing: 14<br>Count: 5<br>Percentage: 0.0%",
               "Starting: P9<br>Finishing: 14<br>Count: 11<br>Percentage: 0.1%",
               "Starting: P10<br>Finishing: 14<br>Count: 12<br>Percentage: 0.1%",
               "Starting: P11<br>Finishing: 14<br>Count: 18<br>Percentage: 0.2%",
               "Starting: P12<br>Finishing: 14<br>Count: 19<br>Percentage: 0.2%",
               "Starting: P13<br>Finishing: 14<br>Count: 20<br>Percentage: 0.2%",
               "Starting: P14<br>Finishing: 14<br>Count: 32<br>Percentage: 0.3%",
               "Starting: P15<br>Finishing: 14<br>Count: 35<br>Percentage: 0.3%",
               "Starting: P16<br>Finishing: 14<br>Count: 38<br>Percentage: 0.3%",
               "Starting: P17<br>Finishing: 14<br>Count: 31<br>Percentage: 0.3%",
               "Starting: P18<br>Finishing: 14<br>Count: 31<br>Percentage: 0.3%",
               "Starting: P19<br>Finishing: 14<br>Count: 31<br>Percentage: 0.3%",
               "Starting: P20<br>Finishing: 14<br>Count: 40<br>Percentage: 0.4%",
               "Starting: P21<br>Finishing: 14<br>Count: 15<br>Percentage: 0.1%",
               "Starting: P22<br>Finishing: 14<br>Count: 12<br>Percentage: 0.1%",
               "Starting: P23<br>Finishing: 14<br>Count: 6<br>Percentage: 0.1%",
               "Starting: P24<br>Finishing: 14<br>Count: 4<br>Percentage: 0.0%",
               "Starting: P25<br>Finishing: 14<br>Count: 1<br>Percentage: 0.0%",
               "Starting: P26<br>Finishing: 14<br>Count: 0<br>Percentage: 0.0%"
              ],
              [
               "Starting: P1<br>Finishing: 15<br>Count: 1<br>Percentage: 0.0%",
               "Starting: P2<br>Finishing: 15<br>Count: 1<br>Percentage: 0.0%",
               "Starting: P3<br>Finishing: 15<br>Count: 1<br>Percentage: 0.0%",
               "Starting: P4<br>Finishing: 15<br>Count: 4<br>Percentage: 0.0%",
               "Starting: P5<br>Finishing: 15<br>Count: 3<br>Percentage: 0.0%",
               "Starting: P6<br>Finishing: 15<br>Count: 8<br>Percentage: 0.1%",
               "Starting: P7<br>Finishing: 15<br>Count: 7<br>Percentage: 0.1%",
               "Starting: P8<br>Finishing: 15<br>Count: 8<br>Percentage: 0.1%",
               "Starting: P9<br>Finishing: 15<br>Count: 11<br>Percentage: 0.1%",
               "Starting: P10<br>Finishing: 15<br>Count: 6<br>Percentage: 0.1%",
               "Starting: P11<br>Finishing: 15<br>Count: 14<br>Percentage: 0.1%",
               "Starting: P12<br>Finishing: 15<br>Count: 11<br>Percentage: 0.1%",
               "Starting: P13<br>Finishing: 15<br>Count: 18<br>Percentage: 0.2%",
               "Starting: P14<br>Finishing: 15<br>Count: 26<br>Percentage: 0.2%",
               "Starting: P15<br>Finishing: 15<br>Count: 33<br>Percentage: 0.3%",
               "Starting: P16<br>Finishing: 15<br>Count: 29<br>Percentage: 0.3%",
               "Starting: P17<br>Finishing: 15<br>Count: 30<br>Percentage: 0.3%",
               "Starting: P18<br>Finishing: 15<br>Count: 42<br>Percentage: 0.4%",
               "Starting: P19<br>Finishing: 15<br>Count: 34<br>Percentage: 0.3%",
               "Starting: P20<br>Finishing: 15<br>Count: 29<br>Percentage: 0.3%",
               "Starting: P21<br>Finishing: 15<br>Count: 21<br>Percentage: 0.2%",
               "Starting: P22<br>Finishing: 15<br>Count: 14<br>Percentage: 0.1%",
               "Starting: P23<br>Finishing: 15<br>Count: 4<br>Percentage: 0.0%",
               "Starting: P24<br>Finishing: 15<br>Count: 2<br>Percentage: 0.0%",
               "Starting: P25<br>Finishing: 15<br>Count: 1<br>Percentage: 0.0%",
               "Starting: P26<br>Finishing: 15<br>Count: 2<br>Percentage: 0.0%"
              ],
              [
               "Starting: P1<br>Finishing: 16<br>Count: 0<br>Percentage: 0.0%",
               "Starting: P2<br>Finishing: 16<br>Count: 0<br>Percentage: 0.0%",
               "Starting: P3<br>Finishing: 16<br>Count: 0<br>Percentage: 0.0%",
               "Starting: P4<br>Finishing: 16<br>Count: 1<br>Percentage: 0.0%",
               "Starting: P5<br>Finishing: 16<br>Count: 3<br>Percentage: 0.0%",
               "Starting: P6<br>Finishing: 16<br>Count: 3<br>Percentage: 0.0%",
               "Starting: P7<br>Finishing: 16<br>Count: 6<br>Percentage: 0.1%",
               "Starting: P8<br>Finishing: 16<br>Count: 3<br>Percentage: 0.0%",
               "Starting: P9<br>Finishing: 16<br>Count: 5<br>Percentage: 0.0%",
               "Starting: P10<br>Finishing: 16<br>Count: 7<br>Percentage: 0.1%",
               "Starting: P11<br>Finishing: 16<br>Count: 11<br>Percentage: 0.1%",
               "Starting: P12<br>Finishing: 16<br>Count: 9<br>Percentage: 0.1%",
               "Starting: P13<br>Finishing: 16<br>Count: 17<br>Percentage: 0.1%",
               "Starting: P14<br>Finishing: 16<br>Count: 25<br>Percentage: 0.2%",
               "Starting: P15<br>Finishing: 16<br>Count: 16<br>Percentage: 0.1%",
               "Starting: P16<br>Finishing: 16<br>Count: 22<br>Percentage: 0.2%",
               "Starting: P17<br>Finishing: 16<br>Count: 31<br>Percentage: 0.3%",
               "Starting: P18<br>Finishing: 16<br>Count: 35<br>Percentage: 0.3%",
               "Starting: P19<br>Finishing: 16<br>Count: 48<br>Percentage: 0.4%",
               "Starting: P20<br>Finishing: 16<br>Count: 33<br>Percentage: 0.3%",
               "Starting: P21<br>Finishing: 16<br>Count: 17<br>Percentage: 0.1%",
               "Starting: P22<br>Finishing: 16<br>Count: 11<br>Percentage: 0.1%",
               "Starting: P23<br>Finishing: 16<br>Count: 3<br>Percentage: 0.0%",
               "Starting: P24<br>Finishing: 16<br>Count: 2<br>Percentage: 0.0%",
               "Starting: P25<br>Finishing: 16<br>Count: 2<br>Percentage: 0.0%",
               "Starting: P26<br>Finishing: 16<br>Count: 1<br>Percentage: 0.0%"
              ],
              [
               "Starting: P1<br>Finishing: 17<br>Count: 0<br>Percentage: 0.0%",
               "Starting: P2<br>Finishing: 17<br>Count: 2<br>Percentage: 0.0%",
               "Starting: P3<br>Finishing: 17<br>Count: 1<br>Percentage: 0.0%",
               "Starting: P4<br>Finishing: 17<br>Count: 1<br>Percentage: 0.0%",
               "Starting: P5<br>Finishing: 17<br>Count: 3<br>Percentage: 0.0%",
               "Starting: P6<br>Finishing: 17<br>Count: 4<br>Percentage: 0.0%",
               "Starting: P7<br>Finishing: 17<br>Count: 1<br>Percentage: 0.0%",
               "Starting: P8<br>Finishing: 17<br>Count: 5<br>Percentage: 0.0%",
               "Starting: P9<br>Finishing: 17<br>Count: 2<br>Percentage: 0.0%",
               "Starting: P10<br>Finishing: 17<br>Count: 5<br>Percentage: 0.0%",
               "Starting: P11<br>Finishing: 17<br>Count: 5<br>Percentage: 0.0%",
               "Starting: P12<br>Finishing: 17<br>Count: 3<br>Percentage: 0.0%",
               "Starting: P13<br>Finishing: 17<br>Count: 8<br>Percentage: 0.1%",
               "Starting: P14<br>Finishing: 17<br>Count: 14<br>Percentage: 0.1%",
               "Starting: P15<br>Finishing: 17<br>Count: 11<br>Percentage: 0.1%",
               "Starting: P16<br>Finishing: 17<br>Count: 20<br>Percentage: 0.2%",
               "Starting: P17<br>Finishing: 17<br>Count: 28<br>Percentage: 0.2%",
               "Starting: P18<br>Finishing: 17<br>Count: 27<br>Percentage: 0.2%",
               "Starting: P19<br>Finishing: 17<br>Count: 35<br>Percentage: 0.3%",
               "Starting: P20<br>Finishing: 17<br>Count: 26<br>Percentage: 0.2%",
               "Starting: P21<br>Finishing: 17<br>Count: 17<br>Percentage: 0.1%",
               "Starting: P22<br>Finishing: 17<br>Count: 21<br>Percentage: 0.2%",
               "Starting: P23<br>Finishing: 17<br>Count: 1<br>Percentage: 0.0%",
               "Starting: P24<br>Finishing: 17<br>Count: 4<br>Percentage: 0.0%",
               "Starting: P25<br>Finishing: 17<br>Count: 0<br>Percentage: 0.0%",
               "Starting: P26<br>Finishing: 17<br>Count: 0<br>Percentage: 0.0%"
              ],
              [
               "Starting: P1<br>Finishing: 18<br>Count: 0<br>Percentage: 0.0%",
               "Starting: P2<br>Finishing: 18<br>Count: 0<br>Percentage: 0.0%",
               "Starting: P3<br>Finishing: 18<br>Count: 1<br>Percentage: 0.0%",
               "Starting: P4<br>Finishing: 18<br>Count: 4<br>Percentage: 0.0%",
               "Starting: P5<br>Finishing: 18<br>Count: 3<br>Percentage: 0.0%",
               "Starting: P6<br>Finishing: 18<br>Count: 2<br>Percentage: 0.0%",
               "Starting: P7<br>Finishing: 18<br>Count: 1<br>Percentage: 0.0%",
               "Starting: P8<br>Finishing: 18<br>Count: 1<br>Percentage: 0.0%",
               "Starting: P9<br>Finishing: 18<br>Count: 0<br>Percentage: 0.0%",
               "Starting: P10<br>Finishing: 18<br>Count: 2<br>Percentage: 0.0%",
               "Starting: P11<br>Finishing: 18<br>Count: 4<br>Percentage: 0.0%",
               "Starting: P12<br>Finishing: 18<br>Count: 2<br>Percentage: 0.0%",
               "Starting: P13<br>Finishing: 18<br>Count: 4<br>Percentage: 0.0%",
               "Starting: P14<br>Finishing: 18<br>Count: 3<br>Percentage: 0.0%",
               "Starting: P15<br>Finishing: 18<br>Count: 8<br>Percentage: 0.1%",
               "Starting: P16<br>Finishing: 18<br>Count: 8<br>Percentage: 0.1%",
               "Starting: P17<br>Finishing: 18<br>Count: 13<br>Percentage: 0.1%",
               "Starting: P18<br>Finishing: 18<br>Count: 27<br>Percentage: 0.2%",
               "Starting: P19<br>Finishing: 18<br>Count: 24<br>Percentage: 0.2%",
               "Starting: P20<br>Finishing: 18<br>Count: 27<br>Percentage: 0.2%",
               "Starting: P21<br>Finishing: 18<br>Count: 13<br>Percentage: 0.1%",
               "Starting: P22<br>Finishing: 18<br>Count: 14<br>Percentage: 0.1%",
               "Starting: P23<br>Finishing: 18<br>Count: 6<br>Percentage: 0.1%",
               "Starting: P24<br>Finishing: 18<br>Count: 2<br>Percentage: 0.0%",
               "Starting: P25<br>Finishing: 18<br>Count: 0<br>Percentage: 0.0%",
               "Starting: P26<br>Finishing: 18<br>Count: 0<br>Percentage: 0.0%"
              ],
              [
               "Starting: P1<br>Finishing: 19<br>Count: 0<br>Percentage: 0.0%",
               "Starting: P2<br>Finishing: 19<br>Count: 3<br>Percentage: 0.0%",
               "Starting: P3<br>Finishing: 19<br>Count: 0<br>Percentage: 0.0%",
               "Starting: P4<br>Finishing: 19<br>Count: 2<br>Percentage: 0.0%",
               "Starting: P5<br>Finishing: 19<br>Count: 0<br>Percentage: 0.0%",
               "Starting: P6<br>Finishing: 19<br>Count: 0<br>Percentage: 0.0%",
               "Starting: P7<br>Finishing: 19<br>Count: 4<br>Percentage: 0.0%",
               "Starting: P8<br>Finishing: 19<br>Count: 0<br>Percentage: 0.0%",
               "Starting: P9<br>Finishing: 19<br>Count: 1<br>Percentage: 0.0%",
               "Starting: P10<br>Finishing: 19<br>Count: 2<br>Percentage: 0.0%",
               "Starting: P11<br>Finishing: 19<br>Count: 1<br>Percentage: 0.0%",
               "Starting: P12<br>Finishing: 19<br>Count: 1<br>Percentage: 0.0%",
               "Starting: P13<br>Finishing: 19<br>Count: 1<br>Percentage: 0.0%",
               "Starting: P14<br>Finishing: 19<br>Count: 4<br>Percentage: 0.0%",
               "Starting: P15<br>Finishing: 19<br>Count: 4<br>Percentage: 0.0%",
               "Starting: P16<br>Finishing: 19<br>Count: 5<br>Percentage: 0.0%",
               "Starting: P17<br>Finishing: 19<br>Count: 6<br>Percentage: 0.1%",
               "Starting: P18<br>Finishing: 19<br>Count: 11<br>Percentage: 0.1%",
               "Starting: P19<br>Finishing: 19<br>Count: 17<br>Percentage: 0.1%",
               "Starting: P20<br>Finishing: 19<br>Count: 15<br>Percentage: 0.1%",
               "Starting: P21<br>Finishing: 19<br>Count: 6<br>Percentage: 0.1%",
               "Starting: P22<br>Finishing: 19<br>Count: 6<br>Percentage: 0.1%",
               "Starting: P23<br>Finishing: 19<br>Count: 9<br>Percentage: 0.1%",
               "Starting: P24<br>Finishing: 19<br>Count: 7<br>Percentage: 0.1%",
               "Starting: P25<br>Finishing: 19<br>Count: 0<br>Percentage: 0.0%",
               "Starting: P26<br>Finishing: 19<br>Count: 1<br>Percentage: 0.0%"
              ],
              [
               "Starting: P1<br>Finishing: 20<br>Count: 0<br>Percentage: 0.0%",
               "Starting: P2<br>Finishing: 20<br>Count: 0<br>Percentage: 0.0%",
               "Starting: P3<br>Finishing: 20<br>Count: 0<br>Percentage: 0.0%",
               "Starting: P4<br>Finishing: 20<br>Count: 0<br>Percentage: 0.0%",
               "Starting: P5<br>Finishing: 20<br>Count: 0<br>Percentage: 0.0%",
               "Starting: P6<br>Finishing: 20<br>Count: 0<br>Percentage: 0.0%",
               "Starting: P7<br>Finishing: 20<br>Count: 0<br>Percentage: 0.0%",
               "Starting: P8<br>Finishing: 20<br>Count: 2<br>Percentage: 0.0%",
               "Starting: P9<br>Finishing: 20<br>Count: 0<br>Percentage: 0.0%",
               "Starting: P10<br>Finishing: 20<br>Count: 2<br>Percentage: 0.0%",
               "Starting: P11<br>Finishing: 20<br>Count: 1<br>Percentage: 0.0%",
               "Starting: P12<br>Finishing: 20<br>Count: 0<br>Percentage: 0.0%",
               "Starting: P13<br>Finishing: 20<br>Count: 1<br>Percentage: 0.0%",
               "Starting: P14<br>Finishing: 20<br>Count: 1<br>Percentage: 0.0%",
               "Starting: P15<br>Finishing: 20<br>Count: 3<br>Percentage: 0.0%",
               "Starting: P16<br>Finishing: 20<br>Count: 2<br>Percentage: 0.0%",
               "Starting: P17<br>Finishing: 20<br>Count: 3<br>Percentage: 0.0%",
               "Starting: P18<br>Finishing: 20<br>Count: 3<br>Percentage: 0.0%",
               "Starting: P19<br>Finishing: 20<br>Count: 5<br>Percentage: 0.0%",
               "Starting: P20<br>Finishing: 20<br>Count: 7<br>Percentage: 0.1%",
               "Starting: P21<br>Finishing: 20<br>Count: 11<br>Percentage: 0.1%",
               "Starting: P22<br>Finishing: 20<br>Count: 6<br>Percentage: 0.1%",
               "Starting: P23<br>Finishing: 20<br>Count: 4<br>Percentage: 0.0%",
               "Starting: P24<br>Finishing: 20<br>Count: 5<br>Percentage: 0.0%",
               "Starting: P25<br>Finishing: 20<br>Count: 0<br>Percentage: 0.0%",
               "Starting: P26<br>Finishing: 20<br>Count: 0<br>Percentage: 0.0%"
              ],
              [
               "Starting: P1<br>Finishing: 21<br>Count: 0<br>Percentage: 0.0%",
               "Starting: P2<br>Finishing: 21<br>Count: 0<br>Percentage: 0.0%",
               "Starting: P3<br>Finishing: 21<br>Count: 0<br>Percentage: 0.0%",
               "Starting: P4<br>Finishing: 21<br>Count: 0<br>Percentage: 0.0%",
               "Starting: P5<br>Finishing: 21<br>Count: 0<br>Percentage: 0.0%",
               "Starting: P6<br>Finishing: 21<br>Count: 0<br>Percentage: 0.0%",
               "Starting: P7<br>Finishing: 21<br>Count: 0<br>Percentage: 0.0%",
               "Starting: P8<br>Finishing: 21<br>Count: 0<br>Percentage: 0.0%",
               "Starting: P9<br>Finishing: 21<br>Count: 0<br>Percentage: 0.0%",
               "Starting: P10<br>Finishing: 21<br>Count: 0<br>Percentage: 0.0%",
               "Starting: P11<br>Finishing: 21<br>Count: 0<br>Percentage: 0.0%",
               "Starting: P12<br>Finishing: 21<br>Count: 0<br>Percentage: 0.0%",
               "Starting: P13<br>Finishing: 21<br>Count: 0<br>Percentage: 0.0%",
               "Starting: P14<br>Finishing: 21<br>Count: 1<br>Percentage: 0.0%",
               "Starting: P15<br>Finishing: 21<br>Count: 0<br>Percentage: 0.0%",
               "Starting: P16<br>Finishing: 21<br>Count: 1<br>Percentage: 0.0%",
               "Starting: P17<br>Finishing: 21<br>Count: 0<br>Percentage: 0.0%",
               "Starting: P18<br>Finishing: 21<br>Count: 0<br>Percentage: 0.0%",
               "Starting: P19<br>Finishing: 21<br>Count: 3<br>Percentage: 0.0%",
               "Starting: P20<br>Finishing: 21<br>Count: 6<br>Percentage: 0.1%",
               "Starting: P21<br>Finishing: 21<br>Count: 3<br>Percentage: 0.0%",
               "Starting: P22<br>Finishing: 21<br>Count: 7<br>Percentage: 0.1%",
               "Starting: P23<br>Finishing: 21<br>Count: 4<br>Percentage: 0.0%",
               "Starting: P24<br>Finishing: 21<br>Count: 3<br>Percentage: 0.0%",
               "Starting: P25<br>Finishing: 21<br>Count: 0<br>Percentage: 0.0%",
               "Starting: P26<br>Finishing: 21<br>Count: 0<br>Percentage: 0.0%"
              ],
              [
               "Starting: P1<br>Finishing: 22<br>Count: 0<br>Percentage: 0.0%",
               "Starting: P2<br>Finishing: 22<br>Count: 0<br>Percentage: 0.0%",
               "Starting: P3<br>Finishing: 22<br>Count: 0<br>Percentage: 0.0%",
               "Starting: P4<br>Finishing: 22<br>Count: 0<br>Percentage: 0.0%",
               "Starting: P5<br>Finishing: 22<br>Count: 1<br>Percentage: 0.0%",
               "Starting: P6<br>Finishing: 22<br>Count: 0<br>Percentage: 0.0%",
               "Starting: P7<br>Finishing: 22<br>Count: 0<br>Percentage: 0.0%",
               "Starting: P8<br>Finishing: 22<br>Count: 0<br>Percentage: 0.0%",
               "Starting: P9<br>Finishing: 22<br>Count: 0<br>Percentage: 0.0%",
               "Starting: P10<br>Finishing: 22<br>Count: 0<br>Percentage: 0.0%",
               "Starting: P11<br>Finishing: 22<br>Count: 0<br>Percentage: 0.0%",
               "Starting: P12<br>Finishing: 22<br>Count: 0<br>Percentage: 0.0%",
               "Starting: P13<br>Finishing: 22<br>Count: 0<br>Percentage: 0.0%",
               "Starting: P14<br>Finishing: 22<br>Count: 1<br>Percentage: 0.0%",
               "Starting: P15<br>Finishing: 22<br>Count: 1<br>Percentage: 0.0%",
               "Starting: P16<br>Finishing: 22<br>Count: 0<br>Percentage: 0.0%",
               "Starting: P17<br>Finishing: 22<br>Count: 0<br>Percentage: 0.0%",
               "Starting: P18<br>Finishing: 22<br>Count: 0<br>Percentage: 0.0%",
               "Starting: P19<br>Finishing: 22<br>Count: 1<br>Percentage: 0.0%",
               "Starting: P20<br>Finishing: 22<br>Count: 1<br>Percentage: 0.0%",
               "Starting: P21<br>Finishing: 22<br>Count: 1<br>Percentage: 0.0%",
               "Starting: P22<br>Finishing: 22<br>Count: 2<br>Percentage: 0.0%",
               "Starting: P23<br>Finishing: 22<br>Count: 6<br>Percentage: 0.1%",
               "Starting: P24<br>Finishing: 22<br>Count: 1<br>Percentage: 0.0%",
               "Starting: P25<br>Finishing: 22<br>Count: 0<br>Percentage: 0.0%",
               "Starting: P26<br>Finishing: 22<br>Count: 0<br>Percentage: 0.0%"
              ],
              [
               "Starting: P1<br>Finishing: 23<br>Count: 0<br>Percentage: 0.0%",
               "Starting: P2<br>Finishing: 23<br>Count: 0<br>Percentage: 0.0%",
               "Starting: P3<br>Finishing: 23<br>Count: 0<br>Percentage: 0.0%",
               "Starting: P4<br>Finishing: 23<br>Count: 0<br>Percentage: 0.0%",
               "Starting: P5<br>Finishing: 23<br>Count: 0<br>Percentage: 0.0%",
               "Starting: P6<br>Finishing: 23<br>Count: 0<br>Percentage: 0.0%",
               "Starting: P7<br>Finishing: 23<br>Count: 0<br>Percentage: 0.0%",
               "Starting: P8<br>Finishing: 23<br>Count: 0<br>Percentage: 0.0%",
               "Starting: P9<br>Finishing: 23<br>Count: 0<br>Percentage: 0.0%",
               "Starting: P10<br>Finishing: 23<br>Count: 0<br>Percentage: 0.0%",
               "Starting: P11<br>Finishing: 23<br>Count: 0<br>Percentage: 0.0%",
               "Starting: P12<br>Finishing: 23<br>Count: 0<br>Percentage: 0.0%",
               "Starting: P13<br>Finishing: 23<br>Count: 0<br>Percentage: 0.0%",
               "Starting: P14<br>Finishing: 23<br>Count: 0<br>Percentage: 0.0%",
               "Starting: P15<br>Finishing: 23<br>Count: 0<br>Percentage: 0.0%",
               "Starting: P16<br>Finishing: 23<br>Count: 0<br>Percentage: 0.0%",
               "Starting: P17<br>Finishing: 23<br>Count: 0<br>Percentage: 0.0%",
               "Starting: P18<br>Finishing: 23<br>Count: 1<br>Percentage: 0.0%",
               "Starting: P19<br>Finishing: 23<br>Count: 0<br>Percentage: 0.0%",
               "Starting: P20<br>Finishing: 23<br>Count: 0<br>Percentage: 0.0%",
               "Starting: P21<br>Finishing: 23<br>Count: 0<br>Percentage: 0.0%",
               "Starting: P22<br>Finishing: 23<br>Count: 1<br>Percentage: 0.0%",
               "Starting: P23<br>Finishing: 23<br>Count: 0<br>Percentage: 0.0%",
               "Starting: P24<br>Finishing: 23<br>Count: 3<br>Percentage: 0.0%",
               "Starting: P25<br>Finishing: 23<br>Count: 0<br>Percentage: 0.0%",
               "Starting: P26<br>Finishing: 23<br>Count: 0<br>Percentage: 0.0%"
              ],
              [
               "Starting: P1<br>Finishing: 24<br>Count: 0<br>Percentage: 0.0%",
               "Starting: P2<br>Finishing: 24<br>Count: 0<br>Percentage: 0.0%",
               "Starting: P3<br>Finishing: 24<br>Count: 0<br>Percentage: 0.0%",
               "Starting: P4<br>Finishing: 24<br>Count: 0<br>Percentage: 0.0%",
               "Starting: P5<br>Finishing: 24<br>Count: 0<br>Percentage: 0.0%",
               "Starting: P6<br>Finishing: 24<br>Count: 0<br>Percentage: 0.0%",
               "Starting: P7<br>Finishing: 24<br>Count: 0<br>Percentage: 0.0%",
               "Starting: P8<br>Finishing: 24<br>Count: 0<br>Percentage: 0.0%",
               "Starting: P9<br>Finishing: 24<br>Count: 0<br>Percentage: 0.0%",
               "Starting: P10<br>Finishing: 24<br>Count: 0<br>Percentage: 0.0%",
               "Starting: P11<br>Finishing: 24<br>Count: 0<br>Percentage: 0.0%",
               "Starting: P12<br>Finishing: 24<br>Count: 0<br>Percentage: 0.0%",
               "Starting: P13<br>Finishing: 24<br>Count: 0<br>Percentage: 0.0%",
               "Starting: P14<br>Finishing: 24<br>Count: 0<br>Percentage: 0.0%",
               "Starting: P15<br>Finishing: 24<br>Count: 0<br>Percentage: 0.0%",
               "Starting: P16<br>Finishing: 24<br>Count: 0<br>Percentage: 0.0%",
               "Starting: P17<br>Finishing: 24<br>Count: 0<br>Percentage: 0.0%",
               "Starting: P18<br>Finishing: 24<br>Count: 0<br>Percentage: 0.0%",
               "Starting: P19<br>Finishing: 24<br>Count: 0<br>Percentage: 0.0%",
               "Starting: P20<br>Finishing: 24<br>Count: 0<br>Percentage: 0.0%",
               "Starting: P21<br>Finishing: 24<br>Count: 0<br>Percentage: 0.0%",
               "Starting: P22<br>Finishing: 24<br>Count: 0<br>Percentage: 0.0%",
               "Starting: P23<br>Finishing: 24<br>Count: 0<br>Percentage: 0.0%",
               "Starting: P24<br>Finishing: 24<br>Count: 1<br>Percentage: 0.0%",
               "Starting: P25<br>Finishing: 24<br>Count: 0<br>Percentage: 0.0%",
               "Starting: P26<br>Finishing: 24<br>Count: 0<br>Percentage: 0.0%"
              ],
              [
               "Starting: P1<br>Finishing: DNF<br>Count: 82<br>Percentage: 0.7%",
               "Starting: P2<br>Finishing: DNF<br>Count: 78<br>Percentage: 0.7%",
               "Starting: P3<br>Finishing: DNF<br>Count: 88<br>Percentage: 0.8%",
               "Starting: P4<br>Finishing: DNF<br>Count: 93<br>Percentage: 0.8%",
               "Starting: P5<br>Finishing: DNF<br>Count: 119<br>Percentage: 1.0%",
               "Starting: P6<br>Finishing: DNF<br>Count: 116<br>Percentage: 1.0%",
               "Starting: P7<br>Finishing: DNF<br>Count: 121<br>Percentage: 1.1%",
               "Starting: P8<br>Finishing: DNF<br>Count: 132<br>Percentage: 1.2%",
               "Starting: P9<br>Finishing: DNF<br>Count: 126<br>Percentage: 1.1%",
               "Starting: P10<br>Finishing: DNF<br>Count: 127<br>Percentage: 1.1%",
               "Starting: P11<br>Finishing: DNF<br>Count: 136<br>Percentage: 1.2%",
               "Starting: P12<br>Finishing: DNF<br>Count: 162<br>Percentage: 1.4%",
               "Starting: P13<br>Finishing: DNF<br>Count: 154<br>Percentage: 1.4%",
               "Starting: P14<br>Finishing: DNF<br>Count: 153<br>Percentage: 1.3%",
               "Starting: P15<br>Finishing: DNF<br>Count: 158<br>Percentage: 1.4%",
               "Starting: P16<br>Finishing: DNF<br>Count: 172<br>Percentage: 1.5%",
               "Starting: P17<br>Finishing: DNF<br>Count: 185<br>Percentage: 1.6%",
               "Starting: P18<br>Finishing: DNF<br>Count: 163<br>Percentage: 1.4%",
               "Starting: P19<br>Finishing: DNF<br>Count: 161<br>Percentage: 1.4%",
               "Starting: P20<br>Finishing: DNF<br>Count: 165<br>Percentage: 1.4%",
               "Starting: P21<br>Finishing: DNF<br>Count: 119<br>Percentage: 1.0%",
               "Starting: P22<br>Finishing: DNF<br>Count: 97<br>Percentage: 0.9%",
               "Starting: P23<br>Finishing: DNF<br>Count: 33<br>Percentage: 0.3%",
               "Starting: P24<br>Finishing: DNF<br>Count: 33<br>Percentage: 0.3%",
               "Starting: P25<br>Finishing: DNF<br>Count: 12<br>Percentage: 0.1%",
               "Starting: P26<br>Finishing: DNF<br>Count: 12<br>Percentage: 0.1%"
              ],
              [
               "Starting: P1<br>Finishing: DQ<br>Count: 0<br>Percentage: 0.0%",
               "Starting: P2<br>Finishing: DQ<br>Count: 0<br>Percentage: 0.0%",
               "Starting: P3<br>Finishing: DQ<br>Count: 0<br>Percentage: 0.0%",
               "Starting: P4<br>Finishing: DQ<br>Count: 0<br>Percentage: 0.0%",
               "Starting: P5<br>Finishing: DQ<br>Count: 0<br>Percentage: 0.0%",
               "Starting: P6<br>Finishing: DQ<br>Count: 2<br>Percentage: 0.0%",
               "Starting: P7<br>Finishing: DQ<br>Count: 0<br>Percentage: 0.0%",
               "Starting: P8<br>Finishing: DQ<br>Count: 0<br>Percentage: 0.0%",
               "Starting: P9<br>Finishing: DQ<br>Count: 1<br>Percentage: 0.0%",
               "Starting: P10<br>Finishing: DQ<br>Count: 1<br>Percentage: 0.0%",
               "Starting: P11<br>Finishing: DQ<br>Count: 0<br>Percentage: 0.0%",
               "Starting: P12<br>Finishing: DQ<br>Count: 2<br>Percentage: 0.0%",
               "Starting: P13<br>Finishing: DQ<br>Count: 1<br>Percentage: 0.0%",
               "Starting: P14<br>Finishing: DQ<br>Count: 0<br>Percentage: 0.0%",
               "Starting: P15<br>Finishing: DQ<br>Count: 1<br>Percentage: 0.0%",
               "Starting: P16<br>Finishing: DQ<br>Count: 1<br>Percentage: 0.0%",
               "Starting: P17<br>Finishing: DQ<br>Count: 0<br>Percentage: 0.0%",
               "Starting: P18<br>Finishing: DQ<br>Count: 1<br>Percentage: 0.0%",
               "Starting: P19<br>Finishing: DQ<br>Count: 0<br>Percentage: 0.0%",
               "Starting: P20<br>Finishing: DQ<br>Count: 0<br>Percentage: 0.0%",
               "Starting: P21<br>Finishing: DQ<br>Count: 0<br>Percentage: 0.0%",
               "Starting: P22<br>Finishing: DQ<br>Count: 0<br>Percentage: 0.0%",
               "Starting: P23<br>Finishing: DQ<br>Count: 0<br>Percentage: 0.0%",
               "Starting: P24<br>Finishing: DQ<br>Count: 0<br>Percentage: 0.0%",
               "Starting: P25<br>Finishing: DQ<br>Count: 1<br>Percentage: 0.0%",
               "Starting: P26<br>Finishing: DQ<br>Count: 0<br>Percentage: 0.0%"
              ]
             ],
             "hoverongaps": false,
             "hovertemplate": "%{customdata}<extra></extra>",
             "type": "heatmap",
             "x": [
              "P1",
              "P2",
              "P3",
              "P4",
              "P5",
              "P6",
              "P7",
              "P8",
              "P9",
              "P10",
              "P11",
              "P12",
              "P13",
              "P14",
              "P15",
              "P16",
              "P17",
              "P18",
              "P19",
              "P20",
              "P21",
              "P22",
              "P23",
              "P24",
              "P25",
              "P26"
             ],
             "y": [
              "1",
              "2",
              "3",
              "4",
              "5",
              "6",
              "7",
              "8",
              "9",
              "10",
              "11",
              "12",
              "13",
              "14",
              "15",
              "16",
              "17",
              "18",
              "19",
              "20",
              "21",
              "22",
              "23",
              "24",
              "DNF",
              "DQ"
             ],
             "z": {
              "bdata": "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",
              "dtype": "f8",
              "shape": "26, 26"
             }
            }
           ],
           "layout": {
            "font": {
             "size": 12
            },
            "height": 700,
            "template": {
             "data": {
              "bar": [
               {
                "error_x": {
                 "color": "#2a3f5f"
                },
                "error_y": {
                 "color": "#2a3f5f"
                },
                "marker": {
                 "line": {
                  "color": "#E5ECF6",
                  "width": 0.5
                 },
                 "pattern": {
                  "fillmode": "overlay",
                  "size": 10,
                  "solidity": 0.2
                 }
                },
                "type": "bar"
               }
              ],
              "barpolar": [
               {
                "marker": {
                 "line": {
                  "color": "#E5ECF6",
                  "width": 0.5
                 },
                 "pattern": {
                  "fillmode": "overlay",
                  "size": 10,
                  "solidity": 0.2
                 }
                },
                "type": "barpolar"
               }
              ],
              "carpet": [
               {
                "aaxis": {
                 "endlinecolor": "#2a3f5f",
                 "gridcolor": "white",
                 "linecolor": "white",
                 "minorgridcolor": "white",
                 "startlinecolor": "#2a3f5f"
                },
                "baxis": {
                 "endlinecolor": "#2a3f5f",
                 "gridcolor": "white",
                 "linecolor": "white",
                 "minorgridcolor": "white",
                 "startlinecolor": "#2a3f5f"
                },
                "type": "carpet"
               }
              ],
              "choropleth": [
               {
                "colorbar": {
                 "outlinewidth": 0,
                 "ticks": ""
                },
                "type": "choropleth"
               }
              ],
              "contour": [
               {
                "colorbar": {
                 "outlinewidth": 0,
                 "ticks": ""
                },
                "colorscale": [
                 [
                  0.0,
                  "#0d0887"
                 ],
                 [
                  0.1111111111111111,
                  "#46039f"
                 ],
                 [
                  0.2222222222222222,
                  "#7201a8"
                 ],
                 [
                  0.3333333333333333,
                  "#9c179e"
                 ],
                 [
                  0.4444444444444444,
                  "#bd3786"
                 ],
                 [
                  0.5555555555555556,
                  "#d8576b"
                 ],
                 [
                  0.6666666666666666,
                  "#ed7953"
                 ],
                 [
                  0.7777777777777778,
                  "#fb9f3a"
                 ],
                 [
                  0.8888888888888888,
                  "#fdca26"
                 ],
                 [
                  1.0,
                  "#f0f921"
                 ]
                ],
                "type": "contour"
               }
              ],
              "contourcarpet": [
               {
                "colorbar": {
                 "outlinewidth": 0,
                 "ticks": ""
                },
                "type": "contourcarpet"
               }
              ],
              "heatmap": [
               {
                "colorbar": {
                 "outlinewidth": 0,
                 "ticks": ""
                },
                "colorscale": [
                 [
                  0.0,
                  "#0d0887"
                 ],
                 [
                  0.1111111111111111,
                  "#46039f"
                 ],
                 [
                  0.2222222222222222,
                  "#7201a8"
                 ],
                 [
                  0.3333333333333333,
                  "#9c179e"
                 ],
                 [
                  0.4444444444444444,
                  "#bd3786"
                 ],
                 [
                  0.5555555555555556,
                  "#d8576b"
                 ],
                 [
                  0.6666666666666666,
                  "#ed7953"
                 ],
                 [
                  0.7777777777777778,
                  "#fb9f3a"
                 ],
                 [
                  0.8888888888888888,
                  "#fdca26"
                 ],
                 [
                  1.0,
                  "#f0f921"
                 ]
                ],
                "type": "heatmap"
               }
              ],
              "histogram": [
               {
                "marker": {
                 "pattern": {
                  "fillmode": "overlay",
                  "size": 10,
                  "solidity": 0.2
                 }
                },
                "type": "histogram"
               }
              ],
              "histogram2d": [
               {
                "colorbar": {
                 "outlinewidth": 0,
                 "ticks": ""
                },
                "colorscale": [
                 [
                  0.0,
                  "#0d0887"
                 ],
                 [
                  0.1111111111111111,
                  "#46039f"
                 ],
                 [
                  0.2222222222222222,
                  "#7201a8"
                 ],
                 [
                  0.3333333333333333,
                  "#9c179e"
                 ],
                 [
                  0.4444444444444444,
                  "#bd3786"
                 ],
                 [
                  0.5555555555555556,
                  "#d8576b"
                 ],
                 [
                  0.6666666666666666,
                  "#ed7953"
                 ],
                 [
                  0.7777777777777778,
                  "#fb9f3a"
                 ],
                 [
                  0.8888888888888888,
                  "#fdca26"
                 ],
                 [
                  1.0,
                  "#f0f921"
                 ]
                ],
                "type": "histogram2d"
               }
              ],
              "histogram2dcontour": [
               {
                "colorbar": {
                 "outlinewidth": 0,
                 "ticks": ""
                },
                "colorscale": [
                 [
                  0.0,
                  "#0d0887"
                 ],
                 [
                  0.1111111111111111,
                  "#46039f"
                 ],
                 [
                  0.2222222222222222,
                  "#7201a8"
                 ],
                 [
                  0.3333333333333333,
                  "#9c179e"
                 ],
                 [
                  0.4444444444444444,
                  "#bd3786"
                 ],
                 [
                  0.5555555555555556,
                  "#d8576b"
                 ],
                 [
                  0.6666666666666666,
                  "#ed7953"
                 ],
                 [
                  0.7777777777777778,
                  "#fb9f3a"
                 ],
                 [
                  0.8888888888888888,
                  "#fdca26"
                 ],
                 [
                  1.0,
                  "#f0f921"
                 ]
                ],
                "type": "histogram2dcontour"
               }
              ],
              "mesh3d": [
               {
                "colorbar": {
                 "outlinewidth": 0,
                 "ticks": ""
                },
                "type": "mesh3d"
               }
              ],
              "parcoords": [
               {
                "line": {
                 "colorbar": {
                  "outlinewidth": 0,
                  "ticks": ""
                 }
                },
                "type": "parcoords"
               }
              ],
              "pie": [
               {
                "automargin": true,
                "type": "pie"
               }
              ],
              "scatter": [
               {
                "fillpattern": {
                 "fillmode": "overlay",
                 "size": 10,
                 "solidity": 0.2
                },
                "type": "scatter"
               }
              ],
              "scatter3d": [
               {
                "line": {
                 "colorbar": {
                  "outlinewidth": 0,
                  "ticks": ""
                 }
                },
                "marker": {
                 "colorbar": {
                  "outlinewidth": 0,
                  "ticks": ""
                 }
                },
                "type": "scatter3d"
               }
              ],
              "scattercarpet": [
               {
                "marker": {
                 "colorbar": {
                  "outlinewidth": 0,
                  "ticks": ""
                 }
                },
                "type": "scattercarpet"
               }
              ],
              "scattergeo": [
               {
                "marker": {
                 "colorbar": {
                  "outlinewidth": 0,
                  "ticks": ""
                 }
                },
                "type": "scattergeo"
               }
              ],
              "scattergl": [
               {
                "marker": {
                 "colorbar": {
                  "outlinewidth": 0,
                  "ticks": ""
                 }
                },
                "type": "scattergl"
               }
              ],
              "scattermap": [
               {
                "marker": {
                 "colorbar": {
                  "outlinewidth": 0,
                  "ticks": ""
                 }
                },
                "type": "scattermap"
               }
              ],
              "scattermapbox": [
               {
                "marker": {
                 "colorbar": {
                  "outlinewidth": 0,
                  "ticks": ""
                 }
                },
                "type": "scattermapbox"
               }
              ],
              "scatterpolar": [
               {
                "marker": {
                 "colorbar": {
                  "outlinewidth": 0,
                  "ticks": ""
                 }
                },
                "type": "scatterpolar"
               }
              ],
              "scatterpolargl": [
               {
                "marker": {
                 "colorbar": {
                  "outlinewidth": 0,
                  "ticks": ""
                 }
                },
                "type": "scatterpolargl"
               }
              ],
              "scatterternary": [
               {
                "marker": {
                 "colorbar": {
                  "outlinewidth": 0,
                  "ticks": ""
                 }
                },
                "type": "scatterternary"
               }
              ],
              "surface": [
               {
                "colorbar": {
                 "outlinewidth": 0,
                 "ticks": ""
                },
                "colorscale": [
                 [
                  0.0,
                  "#0d0887"
                 ],
                 [
                  0.1111111111111111,
                  "#46039f"
                 ],
                 [
                  0.2222222222222222,
                  "#7201a8"
                 ],
                 [
                  0.3333333333333333,
                  "#9c179e"
                 ],
                 [
                  0.4444444444444444,
                  "#bd3786"
                 ],
                 [
                  0.5555555555555556,
                  "#d8576b"
                 ],
                 [
                  0.6666666666666666,
                  "#ed7953"
                 ],
                 [
                  0.7777777777777778,
                  "#fb9f3a"
                 ],
                 [
                  0.8888888888888888,
                  "#fdca26"
                 ],
                 [
                  1.0,
                  "#f0f921"
                 ]
                ],
                "type": "surface"
               }
              ],
              "table": [
               {
                "cells": {
                 "fill": {
                  "color": "#EBF0F8"
                 },
                 "line": {
                  "color": "white"
                 }
                },
                "header": {
                 "fill": {
                  "color": "#C8D4E3"
                 },
                 "line": {
                  "color": "white"
                 }
                },
                "type": "table"
               }
              ]
             },
             "layout": {
              "annotationdefaults": {
               "arrowcolor": "#2a3f5f",
               "arrowhead": 0,
               "arrowwidth": 1
              },
              "autotypenumbers": "strict",
              "coloraxis": {
               "colorbar": {
                "outlinewidth": 0,
                "ticks": ""
               }
              },
              "colorscale": {
               "diverging": [
                [
                 0,
                 "#8e0152"
                ],
                [
                 0.1,
                 "#c51b7d"
                ],
                [
                 0.2,
                 "#de77ae"
                ],
                [
                 0.3,
                 "#f1b6da"
                ],
                [
                 0.4,
                 "#fde0ef"
                ],
                [
                 0.5,
                 "#f7f7f7"
                ],
                [
                 0.6,
                 "#e6f5d0"
                ],
                [
                 0.7,
                 "#b8e186"
                ],
                [
                 0.8,
                 "#7fbc41"
                ],
                [
                 0.9,
                 "#4d9221"
                ],
                [
                 1,
                 "#276419"
                ]
               ],
               "sequential": [
                [
                 0.0,
                 "#0d0887"
                ],
                [
                 0.1111111111111111,
                 "#46039f"
                ],
                [
                 0.2222222222222222,
                 "#7201a8"
                ],
                [
                 0.3333333333333333,
                 "#9c179e"
                ],
                [
                 0.4444444444444444,
                 "#bd3786"
                ],
                [
                 0.5555555555555556,
                 "#d8576b"
                ],
                [
                 0.6666666666666666,
                 "#ed7953"
                ],
                [
                 0.7777777777777778,
                 "#fb9f3a"
                ],
                [
                 0.8888888888888888,
                 "#fdca26"
                ],
                [
                 1.0,
                 "#f0f921"
                ]
               ],
               "sequentialminus": [
                [
                 0.0,
                 "#0d0887"
                ],
                [
                 0.1111111111111111,
                 "#46039f"
                ],
                [
                 0.2222222222222222,
                 "#7201a8"
                ],
                [
                 0.3333333333333333,
                 "#9c179e"
                ],
                [
                 0.4444444444444444,
                 "#bd3786"
                ],
                [
                 0.5555555555555556,
                 "#d8576b"
                ],
                [
                 0.6666666666666666,
                 "#ed7953"
                ],
                [
                 0.7777777777777778,
                 "#fb9f3a"
                ],
                [
                 0.8888888888888888,
                 "#fdca26"
                ],
                [
                 1.0,
                 "#f0f921"
                ]
               ]
              },
              "colorway": [
               "#636efa",
               "#EF553B",
               "#00cc96",
               "#ab63fa",
               "#FFA15A",
               "#19d3f3",
               "#FF6692",
               "#B6E880",
               "#FF97FF",
               "#FECB52"
              ],
              "font": {
               "color": "#2a3f5f"
              },
              "geo": {
               "bgcolor": "white",
               "lakecolor": "white",
               "landcolor": "#E5ECF6",
               "showlakes": true,
               "showland": true,
               "subunitcolor": "white"
              },
              "hoverlabel": {
               "align": "left"
              },
              "hovermode": "closest",
              "mapbox": {
               "style": "light"
              },
              "paper_bgcolor": "white",
              "plot_bgcolor": "#E5ECF6",
              "polar": {
               "angularaxis": {
                "gridcolor": "white",
                "linecolor": "white",
                "ticks": ""
               },
               "bgcolor": "#E5ECF6",
               "radialaxis": {
                "gridcolor": "white",
                "linecolor": "white",
                "ticks": ""
               }
              },
              "scene": {
               "xaxis": {
                "backgroundcolor": "#E5ECF6",
                "gridcolor": "white",
                "gridwidth": 2,
                "linecolor": "white",
                "showbackground": true,
                "ticks": "",
                "zerolinecolor": "white"
               },
               "yaxis": {
                "backgroundcolor": "#E5ECF6",
                "gridcolor": "white",
                "gridwidth": 2,
                "linecolor": "white",
                "showbackground": true,
                "ticks": "",
                "zerolinecolor": "white"
               },
               "zaxis": {
                "backgroundcolor": "#E5ECF6",
                "gridcolor": "white",
                "gridwidth": 2,
                "linecolor": "white",
                "showbackground": true,
                "ticks": "",
                "zerolinecolor": "white"
               }
              },
              "shapedefaults": {
               "line": {
                "color": "#2a3f5f"
               }
              },
              "ternary": {
               "aaxis": {
                "gridcolor": "white",
                "linecolor": "white",
                "ticks": ""
               },
               "baxis": {
                "gridcolor": "white",
                "linecolor": "white",
                "ticks": ""
               },
               "bgcolor": "#E5ECF6",
               "caxis": {
                "gridcolor": "white",
                "linecolor": "white",
                "ticks": ""
               }
              },
              "title": {
               "x": 0.05
              },
              "xaxis": {
               "automargin": true,
               "gridcolor": "white",
               "linecolor": "white",
               "ticks": "",
               "title": {
                "standoff": 15
               },
               "zerolinecolor": "white",
               "zerolinewidth": 2
              },
              "yaxis": {
               "automargin": true,
               "gridcolor": "white",
               "linecolor": "white",
               "ticks": "",
               "title": {
                "standoff": 15
               },
               "zerolinecolor": "white",
               "zerolinewidth": 2
              }
             }
            },
            "title": {
             "font": {
              "size": 16
             },
             "text": "F1 Starting vs Finishing Position Heatmap - All Years (1994-2022)<br><sub>Total Records: 11,386</sub>",
             "x": 0.5,
             "xanchor": "center"
            },
            "width": 1000,
            "xaxis": {
             "side": "bottom",
             "title": {
              "text": "Starting Position"
             }
            },
            "yaxis": {
             "autorange": "reversed",
             "title": {
              "text": "Finishing Position"
             }
            }
           }
          }
         },
         "metadata": {},
         "output_type": "display_data"
        }
       ],
       "tabbable": null,
       "tooltip": null
      }
     },
     "e712ba49bec04f10be2128fa162abb5f": {
      "model_module": "@jupyter-widgets/base",
      "model_module_version": "2.0.0",
      "model_name": "LayoutModel",
      "state": {
       "_model_module": "@jupyter-widgets/base",
       "_model_module_version": "2.0.0",
       "_model_name": "LayoutModel",
       "_view_count": null,
       "_view_module": "@jupyter-widgets/base",
       "_view_module_version": "2.0.0",
       "_view_name": "LayoutView",
       "align_content": null,
       "align_items": null,
       "align_self": null,
       "border_bottom": null,
       "border_left": null,
       "border_right": null,
       "border_top": null,
       "bottom": null,
       "display": null,
       "flex": null,
       "flex_flow": null,
       "grid_area": null,
       "grid_auto_columns": null,
       "grid_auto_flow": null,
       "grid_auto_rows": null,
       "grid_column": null,
       "grid_gap": null,
       "grid_row": null,
       "grid_template_areas": null,
       "grid_template_columns": null,
       "grid_template_rows": null,
       "height": null,
       "justify_content": null,
       "justify_items": null,
       "left": null,
       "margin": null,
       "max_height": null,
       "max_width": null,
       "min_height": null,
       "min_width": null,
       "object_fit": null,
       "object_position": null,
       "order": null,
       "overflow": null,
       "padding": null,
       "right": null,
       "top": null,
       "visibility": null,
       "width": null
      }
     }
    },
    "version_major": 2,
    "version_minor": 0
   }
  }
 },
 "nbformat": 4,
 "nbformat_minor": 4
}